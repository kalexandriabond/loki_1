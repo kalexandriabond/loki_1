{
 "cells": [
  {
   "cell_type": "code",
   "execution_count": 35,
   "metadata": {},
   "outputs": [],
   "source": [
    "import hddm\n",
    "import matplotlib.pyplot as plt"
   ]
  },
  {
   "cell_type": "code",
   "execution_count": 54,
   "metadata": {},
   "outputs": [
    {
     "name": "stdout",
     "output_type": "stream",
     "text": [
      "Adding these covariates:\n",
      "['v_Intercept', \"v_C(stim, Treatment('WL'))[T.LL]\", \"v_C(stim, Treatment('WL'))[T.WW]\"]\n",
      " [-----------------100%-----------------] 500 of 500 complete in 194.6 sec"
     ]
    },
    {
     "data": {
      "text/plain": [
       "<pymc.MCMC.MCMC at 0x1a21ce92b0>"
      ]
     },
     "execution_count": 54,
     "metadata": {},
     "output_type": "execute_result"
    }
   ],
   "source": [
    "data = hddm.load_csv('cavanagh_theta_nn.csv')\n",
    "\n",
    "model = hddm.models.HDDMRegressor(data, \"v ~ C(stim, Treatment('WL'))\")\n",
    "model.sample(500,burn=20, dbname='mymod.db', db='pickle')"
   ]
  },
  {
   "cell_type": "code",
   "execution_count": 55,
   "metadata": {},
   "outputs": [
    {
     "name": "stdout",
     "output_type": "stream",
     "text": [
      "WARNING: Will not save custom link functions.\n",
      "WARNING: Custom link functions will not be loaded.\n"
     ]
    }
   ],
   "source": [
    "model.save('tst')\n",
    "model = hddm.load('tst')"
   ]
  }
 ],
 "metadata": {
  "kernelspec": {
   "display_name": "hddm",
   "language": "python",
   "name": "hddm"
  },
  "language_info": {
   "codemirror_mode": {
    "name": "ipython",
    "version": 3
   },
   "file_extension": ".py",
   "mimetype": "text/x-python",
   "name": "python",
   "nbconvert_exporter": "python",
   "pygments_lexer": "ipython3",
   "version": "3.5.5"
  }
 },
 "nbformat": 4,
 "nbformat_minor": 2
}
