{
 "cells": [
  {
   "cell_type": "code",
   "execution_count": 1,
   "metadata": {},
   "outputs": [
    {
     "name": "stderr",
     "output_type": "stream",
     "text": [
      "/anaconda3/envs/hddm/lib/python3.5/site-packages/IPython/parallel.py:13: ShimWarning: The `IPython.parallel` package has been deprecated since IPython 4.0. You should import from ipyparallel instead.\n",
      "  \"You should import from ipyparallel instead.\", ShimWarning)\n"
     ]
    },
    {
     "name": "stdout",
     "output_type": "stream",
     "text": [
      "Adding these covariates:\n",
      "['v_Intercept', 'v_x']\n"
     ]
    },
    {
     "name": "stderr",
     "output_type": "stream",
     "text": [
      "/anaconda3/envs/hddm/lib/python3.5/site-packages/pymc/Node.py:403: VisibleDeprecationWarning: using a non-integer number instead of an integer will result in an error in the future\n",
      "  self.__name__ = input['__name__']\n"
     ]
    },
    {
     "name": "stdout",
     "output_type": "stream",
     "text": [
      " [------------------110%-------------------] 11 of 10 complete in 2.6 secWARNING: Will not save custom link functions.\n"
     ]
    },
    {
     "name": "stderr",
     "output_type": "stream",
     "text": [
      "/anaconda3/envs/hddm/lib/python3.5/site-packages/numpy/core/fromnumeric.py:224: VisibleDeprecationWarning: using a non-integer number instead of an integer will result in an error in the future\n",
      "  return reshape(newshape, order=order)\n"
     ]
    }
   ],
   "source": [
    "import pandas as pd\n",
    "import hddm\n",
    "\n",
    "params = {'a': 2, 't': .4, 'z': .5, 'sv': 0, 'sz': 0, 'st': 0}\n",
    "dfs = []\n",
    "for v in [0.2, 0.5, 0.6, 0.7]:\n",
    "    params['v'] = v\n",
    "    _df, _ = hddm.generate.gen_rand_data(params=params, size=100, subjs=6)\n",
    "    _df['x'] = v * 2\n",
    "    dfs.append(_df)\n",
    "df = pd.concat(dfs)\n",
    "model = hddm.HDDMRegressor(df,'v ~ x')\n",
    "model.sample(10, 1, dbname='traces.db', db='pickle')\n",
    "model.save('my_test_model')"
   ]
  },
  {
   "cell_type": "code",
   "execution_count": null,
   "metadata": {},
   "outputs": [
    {
     "name": "stderr",
     "output_type": "stream",
     "text": [
      "/anaconda3/envs/hddm/lib/python3.5/site-packages/ipykernel_launcher.py:68: RuntimeWarning: invalid value encountered in greater\n",
      "/anaconda3/envs/hddm/lib/python3.5/site-packages/ipykernel_launcher.py:76: RuntimeWarning: invalid value encountered in less\n",
      " 81%|████████  | 8997/11136 [02:46<00:39, 54.15it/s] "
     ]
    }
   ],
   "source": [
    "#plot the drift ... and the diffusion. \n",
    "#code from the cracked bassoon. \n",
    "import hddm\n",
    "import numpy as np\n",
    "from scipy.stats import norm\n",
    "import matplotlib.pyplot as plt\n",
    "from matplotlib.gridspec import GridSpec\n",
    "from tqdm import tqdm\n",
    "\n",
    "\n",
    "def setupfig():\n",
    "    \"\"\"Tweak for the target journal.\n",
    "    \"\"\"\n",
    "    single_column = (3.346, 2.301)\n",
    "    fig = plt.figure(figsize=single_column)\n",
    "    gs = GridSpec(3, 1, height_ratios=[1, 2, 1], hspace=0)\n",
    "    return fig, gs\n",
    "\n",
    "\n",
    "def delabel(ax):\n",
    "    \"\"\"Strip labels.\n",
    "    \"\"\"\n",
    "    ax.xaxis.set_ticklabels([])\n",
    "    ax.yaxis.set_ticklabels([])\n",
    "    ax.xaxis.set_ticks([])\n",
    "    ax.yaxis.set_ticks([])\n",
    "\n",
    "\n",
    "def kde(ax, x, mx, c):\n",
    "    \"\"\"Plot a KDE for reaction times.\n",
    "    \"\"\"\n",
    "    x = x[x <= mx]\n",
    "    bandwidth = .8 * x.std() * x.size ** (-1 / 5.)\n",
    "    support = np.linspace(0, mx, 500)\n",
    "    kernels = []\n",
    "\n",
    "    for x_i in tqdm(x):\n",
    "\n",
    "        kernel = norm(x_i, bandwidth).pdf(support)\n",
    "        kernels.append(kernel)\n",
    "        density = np.sum(kernels, axis=0)\n",
    "\n",
    "    my = np.max(density)\n",
    "    ax.plot(support, density, c=c)\n",
    "    ax.fill_between(support, 0, density, alpha=.5, facecolor=c)\n",
    "    ax.set_ylim(0, my * 1.05)\n",
    "    delabel(ax)\n",
    "\n",
    "    return my\n",
    "\n",
    "\n",
    "def traces(ax, n, mx, **params):\n",
    "    \"\"\"Draw example of diffusions.\n",
    "    \"\"\"\n",
    "    x = np.linspace(0, mx, 101)\n",
    "    delta = x[1]\n",
    "    nd_samples = np.round(params['t'] / delta).astype(int)\n",
    "    d_samples = len(x) - nd_samples\n",
    "    y0 = np.zeros(nd_samples) * np.nan\n",
    "    y0[-1] = 0\n",
    "\n",
    "    for i in range(n):\n",
    "\n",
    "        y1 = np.cumsum(\n",
    "            norm.rvs(params['v'] * delta, np.sqrt(delta), size=d_samples))\n",
    "        y = params['a'] * params['z'] + np.concatenate([y0, y1])\n",
    "\n",
    "        try:\n",
    "\n",
    "            idx1 = np.where(y > params['a'])[0][0] + 1\n",
    "\n",
    "        except:\n",
    "\n",
    "            idx1 = np.inf\n",
    "\n",
    "        try:\n",
    "\n",
    "            idx2 = np.where(y < 0)[0][0] + 1\n",
    "\n",
    "        except:\n",
    "\n",
    "            idx2 = np.inf\n",
    "\n",
    "        if idx1 < idx2:\n",
    "\n",
    "            y[idx1:] = np.nan\n",
    "            ax.plot(x, y, c='C0', zorder=-12, alpha=.25)\n",
    "\n",
    "        if idx2 < idx1:\n",
    "\n",
    "            y[idx2:] = np.nan\n",
    "            ax.plot(x, y, c='C3', zorder=-11, alpha=.25)\n",
    "\n",
    "        ax.set_ylim(0, params['a'])\n",
    "        ax.set_xlim(0, mx)\n",
    "        delabel(ax)\n",
    "\n",
    "\n",
    "def ddmfig(**params):\n",
    "    \"\"\"Draw a DDM plot with the given parameter values.\n",
    "    \"\"\"\n",
    "    mx = 3.5\n",
    "    size = 15000\n",
    "    ntraces = 2\n",
    "\n",
    "    # set up fig\n",
    "    fig, gs = setupfig()\n",
    "\n",
    "    # traces\n",
    "    ax = plt.subplot(gs[1])\n",
    "    traces(ax, ntraces, mx, **params)\n",
    "\n",
    "    # data for kdes\n",
    "    df, _ = hddm.generate.gen_rand_data(params, subjs=1, size=size)\n",
    "\n",
    "    # top KDE\n",
    "    ax = plt.subplot(gs[0])\n",
    "    my = kde(ax, df[df.response == 1].rt.values, mx, 'C0')\n",
    "\n",
    "    # bottom KDE\n",
    "    ax = plt.subplot(gs[2])\n",
    "    kde(ax, df[df.response == 0].rt.values, mx, 'C3')\n",
    "    ax.set_ylim(0, my * 1.05)\n",
    "    ax.invert_yaxis()\n",
    "\n",
    "    # remove whitespace around fig\n",
    "    plt.tight_layout(0)\n",
    "\n",
    "\n",
    "def main():\n",
    "\n",
    "    np.random.seed(25)\n",
    "    ddmfig(v=0.7, a=1.5, t=0.6, z=0.5)\n",
    "    plt.savefig('tmp.pdf')\n",
    "\n",
    "\n",
    "if __name__ == '__main__':\n",
    "\n",
    "    main()"
   ]
  },
  {
   "cell_type": "code",
   "execution_count": null,
   "metadata": {},
   "outputs": [],
   "source": []
  }
 ],
 "metadata": {
  "kernelspec": {
   "display_name": "hddm",
   "language": "python",
   "name": "hddm"
  },
  "language_info": {
   "codemirror_mode": {
    "name": "ipython",
    "version": 3
   },
   "file_extension": ".py",
   "mimetype": "text/x-python",
   "name": "python",
   "nbconvert_exporter": "python",
   "pygments_lexer": "ipython3",
   "version": "3.5.5"
  }
 },
 "nbformat": 4,
 "nbformat_minor": 2
}
