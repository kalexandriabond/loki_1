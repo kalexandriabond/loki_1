{
 "cells": [
  {
   "cell_type": "code",
   "execution_count": 1,
   "metadata": {
    "scrolled": true
   },
   "outputs": [],
   "source": [
    "import pandas as pd\n",
    "import numpy as np\n",
    "\n",
    "import glob, re, os"
   ]
  },
  {
   "cell_type": "code",
   "execution_count": 2,
   "metadata": {
    "scrolled": true
   },
   "outputs": [],
   "source": [
    "LR_events = np.sort(glob.glob('/Users/67981492/Desktop/loki_1/data/BIDS/sub-0811/ses-*/beh/*task-lokicat*.tsv'))\n",
    "onsets = np.sort(glob.glob('/Users/67981492/Desktop/loki_1/data/BIDS/sub-0811/ses-*/func/*task-lokicat*events.tsv'))"
   ]
  },
  {
   "cell_type": "code",
   "execution_count": 3,
   "metadata": {},
   "outputs": [],
   "source": [
    "n_runs = 5\n",
    "n_sessions = 9 \n",
    "\n",
    "assert len(LR_events) == (n_runs*n_sessions), 'check events files'\n",
    "assert len(onsets) == (n_runs*n_sessions), 'check events files'"
   ]
  },
  {
   "cell_type": "code",
   "execution_count": 4,
   "metadata": {},
   "outputs": [],
   "source": [
    "for LR_event, onset in zip(LR_events, onsets):\n",
    "\n",
    "    LR_events_subject = LR_event.partition('sub-0')[2][:3]\n",
    "    LR_events_session_n = LR_event.partition('ses-')[2][:2]\n",
    "    LR_events_run_n = LR_event.partition('run')[2][:2]\n",
    "    \n",
    "    onset_subject = onset.partition('sub-0')[2][:3]\n",
    "    onset_session_n = onset.partition('ses-')[2][:2]\n",
    "    onset_run_n = onset.partition('run')[2][:2]\n",
    "    \n",
    "    assert (LR_events_subject, LR_events_session_n, LR_events_run_n) == (onset_subject, onset_session_n, onset_run_n)    \n",
    "\n",
    "    events_path = ('/Users/67981492/Desktop/loki_1/data/BOLD/sub-{}/fmriprep/sub-{}/ses-{}/func/').format(onset_subject, onset_subject, onset_session_n) \n",
    "\n",
    "    if not os.path.exists(events_path):\n",
    "        os.makedirs(events_path)\n",
    "    \n",
    "    LR_events_df = pd.read_csv(LR_event,sep=r'\\,|\\t',engine='python').rename(columns=lambda x: x.strip())\n",
    "    onsets_df = pd.read_csv(onset,sep=r'\\,|\\t',engine='python').rename(columns=lambda x: x.strip())\n",
    "    \n",
    "    \n",
    "    LR_event_design_df = pd.DataFrame()\n",
    "\n",
    "\n",
    "    LR_event_design_df['reward_code'] = LR_events_df['reward_code'].copy() \n",
    "    LR_event_design_df['subj_id'] = LR_events_df['subj_id'].copy() \n",
    "    LR_event_design_df['condition'] = LR_events_df['condition'].copy() \n",
    "    LR_event_design_df['trial'] = LR_events_df['trial'].copy() \n",
    "    LR_event_design_df['epoch_trial'] = LR_events_df['epoch_trial'].copy() \n",
    "    LR_event_design_df['epoch_number'] = LR_events_df['epoch_number'].copy() \n",
    "\n",
    "\n",
    "    LR_event_design_df['LR'] = LR_events_df['LR_choice'].copy() \n",
    "    LR_event_design_df['onset'] = onsets_df['rt'].copy() + onsets_df['stim_onset'].copy()\n",
    "\n",
    "    \n",
    "    LR_event_design_df['session_n'] = int(LR_events_session_n)\n",
    "    LR_event_design_df['run_n'] = int(LR_events_run_n)\n",
    "    \n",
    "    \n",
    "    fn = os.path.join(events_path, os.path.basename(onset).partition('_events')[0] + '_LR_events.tsv')\n",
    "    \n",
    "    \n",
    "    LR_event_design_df.to_csv(fn, index=False)"
   ]
  }
 ],
 "metadata": {
  "kernelspec": {
   "display_name": "Python 3",
   "language": "python",
   "name": "python3"
  },
  "language_info": {
   "codemirror_mode": {
    "name": "ipython",
    "version": 3
   },
   "file_extension": ".py",
   "mimetype": "text/x-python",
   "name": "python",
   "nbconvert_exporter": "python",
   "pygments_lexer": "ipython3",
   "version": "3.7.6"
  }
 },
 "nbformat": 4,
 "nbformat_minor": 2
}
