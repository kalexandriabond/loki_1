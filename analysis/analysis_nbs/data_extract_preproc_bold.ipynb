{
 "cells": [
  {
   "cell_type": "code",
   "execution_count": 2,
   "metadata": {},
   "outputs": [
    {
     "name": "stderr",
     "output_type": "stream",
     "text": [
      "/home/raghav/.local/lib/python2.7/site-packages/nilearn/__init__.py:73: DeprecationWarning: Python2 support is deprecated and will be removed in the next release. Consider switching to Python 3.6 or 3.7.\n",
      "  _python_deprecation_warnings()\n"
     ]
    },
    {
     "data": {
      "application/javascript": [
       "IPython.notebook.set_autosave_interval(5000)"
      ]
     },
     "metadata": {},
     "output_type": "display_data"
    },
    {
     "name": "stdout",
     "output_type": "stream",
     "text": [
      "Autosaving every 5 seconds\n"
     ]
    }
   ],
   "source": [
    "import numpy as np\n",
    "import nibabel as nib\n",
    "from nilearn.input_data import NiftiMasker,  MultiNiftiMasker\n",
    "from scipy import stats\n",
    "from sklearn import preprocessing\n",
    "import matplotlib.pyplot as plt \n",
    "from jupyterthemes import jtplot\n",
    "import glob \n",
    "import os\n",
    "import pandas as pd\n",
    "%matplotlib inline \n",
    "%autosave 5"
   ]
  },
  {
   "cell_type": "code",
   "execution_count": 3,
   "metadata": {},
   "outputs": [],
   "source": [
    "# set directory path \n",
    "path = ('/home/raghav/loki1/output/sub-790/')\n",
    "fmriprep_path = ('/home/raghav/loki1/output/')\n",
    "agg_data_path = ('/home/raghav/loki1/analysis/')"
   ]
  },
  {
   "cell_type": "code",
   "execution_count": 4,
   "metadata": {},
   "outputs": [],
   "source": [
    "from nilearn import datasets\n",
    "\n",
    "dataset = datasets.fetch_atlas_pauli_2017() # get probabilistic subcortical atlas \n",
    "atlas_filename = dataset.maps # filename for the atlas\n",
    "labels = dataset.labels # region labels\n",
    "\n",
    "n_nodes = len(labels)"
   ]
  },
  {
   "cell_type": "code",
   "execution_count": 5,
   "metadata": {},
   "outputs": [],
   "source": [
    "# mask the BOLD data \n",
    "from nilearn.input_data import NiftiMapsMasker\n",
    "masker = NiftiMapsMasker(maps_img=atlas_filename, standardize=True, memory='nilearn_cache', verbose=5)"
   ]
  },
  {
   "cell_type": "code",
   "execution_count": 6,
   "metadata": {},
   "outputs": [],
   "source": [
    "tr = .750\n",
    "max_tr = 552.75\n",
    "\n",
    "n_samples = len(np.arange(0, max_tr+tr, tr))\n",
    "\n",
    "sessions = np.arange(2,11)"
   ]
  },
  {
   "cell_type": "code",
   "execution_count": null,
   "metadata": {
    "scrolled": true
   },
   "outputs": [
    {
     "name": "stdout",
     "output_type": "stream",
     "text": [
      "[NiftiMapsMasker.fit_transform] loading regions from /home/raghav/nilearn_data/pauli_2017/pauli_2017_labels.nii.gz\n",
      "Resampling maps\n"
     ]
    },
    {
     "name": "stderr",
     "output_type": "stream",
     "text": [
      "/home/raghav/.local/lib/python2.7/site-packages/nilearn/_utils/cache_mixin.py:302: UserWarning: memory_level is currently set to 0 but a Memory object has been provided. Setting memory_level to 1.\n",
      "  warnings.warn(\"memory_level is currently set to 0 but \"\n"
     ]
    },
    {
     "name": "stdout",
     "output_type": "stream",
     "text": [
      "[Memory]1.0s, 0.0min    : Loading resample_img...\n",
      "________________________________________resample_img cache loaded - 0.1s, 0.0min\n",
      "[Memory]1.2s, 0.0min    : Loading filter_and_extract...\n",
      "__________________________________filter_and_extract cache loaded - 0.0s, 0.0min\n",
      "[NiftiMapsMasker.fit_transform] loading regions from /home/raghav/nilearn_data/pauli_2017/pauli_2017_labels.nii.gz\n",
      "[Memory]38.0s, 0.6min   : Loading filter_and_extract...\n",
      "__________________________________filter_and_extract cache loaded - 0.0s, 0.0min\n",
      "[NiftiMapsMasker.fit_transform] loading regions from /home/raghav/nilearn_data/pauli_2017/pauli_2017_labels.nii.gz\n",
      "[Memory]73.8s, 1.2min   : Loading filter_and_extract...\n",
      "__________________________________filter_and_extract cache loaded - 0.0s, 0.0min\n",
      "[NiftiMapsMasker.fit_transform] loading regions from /home/raghav/nilearn_data/pauli_2017/pauli_2017_labels.nii.gz\n",
      "[Memory]106.3s, 1.8min  : Loading filter_and_extract...\n",
      "__________________________________filter_and_extract cache loaded - 0.0s, 0.0min\n",
      "[NiftiMapsMasker.fit_transform] loading regions from /home/raghav/nilearn_data/pauli_2017/pauli_2017_labels.nii.gz\n",
      "[Memory]144.2s, 2.4min  : Loading filter_and_extract...\n",
      "__________________________________filter_and_extract cache loaded - 0.0s, 0.0min\n",
      "[NiftiMapsMasker.fit_transform] loading regions from /home/raghav/nilearn_data/pauli_2017/pauli_2017_labels.nii.gz\n",
      "[Memory]177.3s, 3.0min  : Loading filter_and_extract...\n",
      "__________________________________filter_and_extract cache loaded - 0.0s, 0.0min\n",
      "[NiftiMapsMasker.fit_transform] loading regions from /home/raghav/nilearn_data/pauli_2017/pauli_2017_labels.nii.gz\n",
      "________________________________________________________________________________\n",
      "[Memory] Calling nilearn.input_data.base_masker.filter_and_extract...\n",
      "filter_and_extract('/home/raghav/loki1/output/sub-790/fmriprep/sub-790/ses-03/func/sub-790_ses-03_task-lokicat_run-02_space-MNI152NLin2009cAsym_desc-preproc_bold.nii.gz', \n",
      "<nilearn.input_data.nifti_maps_masker._ExtractionFunctor object at 0x7f6e89a2c510>, \n",
      "{ 'allow_overlap': True,\n",
      "  'detrend': False,\n",
      "  'dtype': None,\n",
      "  'high_pass': None,\n",
      "  'low_pass': None,\n",
      "  'maps_img': '/home/raghav/nilearn_data/pauli_2017/pauli_2017_labels.nii.gz',\n",
      "  'mask_img': None,\n",
      "  'smoothing_fwhm': None,\n",
      "  'standardize': True,\n",
      "  't_r': None,\n",
      "  'target_affine': None,\n",
      "  'target_shape': None}, dtype=None, memory_level=1, memory=Memory(location=nilearn_cache/joblib), verbose=5, confounds=None)\n",
      "[NiftiMapsMasker.transform_single_imgs] Loading data from /home/raghav/loki1/output/sub-790/fmriprep/sub-790/ses-03/func/sub-790_ses-03_task-lokicat_run-02_space-MNI152NLin2009cAsym_desc-preproc_bold.nii.gz\n",
      "[NiftiMapsMasker.transform_single_imgs] Extracting region signals\n"
     ]
    }
   ],
   "source": [
    "time_series_dfs_790 = []\n",
    "\n",
    "for session in sessions: \n",
    "    \n",
    "    session_epi_fns = np.sort(glob.glob(os.path.join(fmriprep_path, 'sub-790/fmriprep/sub-790/ses-*' + str(session) + '/func/sub-790_ses-*'+ str(session) + '_task-lokicat_run-*_space-MNI152NLin2009cAsym_desc-preproc_bold.nii.gz')))\n",
    "\n",
    "    for epi_fn in session_epi_fns: \n",
    "        time_series_temp = masker.fit_transform(epi_fn, ) # get time series matrix \n",
    "        \n",
    "        # time series of BOLD data should be n_samples by n_nodes np.array\n",
    "        if time_series_temp.shape != (n_samples, n_nodes):\n",
    "            print('check dimensions of time series for ' + str(epi_fn)) \n",
    "        \n",
    "        time_series_temp_df_790 = pd.DataFrame(data=time_series_temp, columns=labels)\n",
    "        time_series_temp_df_790['session'] = session\n",
    "        time_series_temp_df_790['run'] = int(epi_fn[95:97])\n",
    "        time_series_temp_df_790['subject'] = int(epi_fn[30:33])\n",
    "        time_series_temp_df_790['sample_n'] = np.arange(0, len(time_series_temp))\n",
    "        time_series_temp_df_790['tr'] = np.arange(0, len(time_series_temp))\n",
    "\n",
    "        time_series_dfs_790.append(time_series_temp_df_790)\n",
    "        \n",
    "time_series_df_790 = pd.concat(time_series_dfs_790, axis=0) # concat ts df "
   ]
  },
  {
   "cell_type": "code",
   "execution_count": null,
   "metadata": {},
   "outputs": [],
   "source": [
    "time_series_df_790.head()\n",
    "time_series_df_790.to_csv(os.path.join(agg_data_path, 'subcort_ts_df_790.csv'), index=False)"
   ]
  },
  {
   "cell_type": "code",
   "execution_count": null,
   "metadata": {},
   "outputs": [],
   "source": [
    "# for testing the files which create problem\n",
    "time_series_test = masker.fit_transform('/home/raghav/loki1/output/sub-813/fmriprep/sub-813/ses-08/func/sub-813_ses-08_task-lokicat_run-01_space-MNI152NLin2009cAsym_desc-preproc_bold.nii.gz')\n",
    "print(len(time_series_test))"
   ]
  },
  {
   "cell_type": "code",
   "execution_count": null,
   "metadata": {},
   "outputs": [],
   "source": [
    "time_series_dfs_811 = []\n",
    "\n",
    "for session in sessions: \n",
    "    \n",
    "    session_epi_fns = np.sort(glob.glob(os.path.join(fmriprep_path, 'sub-811/fmriprep/sub-811/ses-*' + str(session) + '/func/sub-811_ses-*'+ str(session) + '_task-lokicat_run-*_space-MNI152NLin2009cAsym_desc-preproc_bold.nii.gz')))\n",
    "\n",
    "    for epi_fn in session_epi_fns: \n",
    "        time_series_temp = masker.fit_transform(epi_fn, ) # get time series matrix \n",
    "        \n",
    "        # time series of BOLD data should be n_samples by n_nodes np.array\n",
    "        if time_series_temp.shape != (n_samples, n_nodes):\n",
    "            print('check dimensions of time series for ' + str(epi_fn)) \n",
    "        \n",
    "        time_series_temp_df_811 = pd.DataFrame(data=time_series_temp, columns=labels)\n",
    "        time_series_temp_df_811['session'] = session\n",
    "        time_series_temp_df_811['run'] = int(epi_fn[95:97])\n",
    "        time_series_temp_df_811['subject'] = int(epi_fn[30:33])\n",
    "        time_series_temp_df_811['sample_n'] = np.arange(0, len(time_series_temp))\n",
    "        time_series_temp_df_811['tr'] = np.arange(0, len(time_series_temp))\n",
    "\n",
    "        time_series_dfs_811.append(time_series_temp_df_811)\n",
    "        \n",
    "time_series_df_811 = pd.concat(time_series_dfs_811, axis=0) # concat ts df "
   ]
  },
  {
   "cell_type": "code",
   "execution_count": null,
   "metadata": {},
   "outputs": [],
   "source": [
    "time_series_df_811.head()\n",
    "time_series_df.to_csv(os.path.join(agg_data_path, 'subcort_ts_df_811.csv'), index=False)"
   ]
  },
  {
   "cell_type": "code",
   "execution_count": null,
   "metadata": {},
   "outputs": [],
   "source": [
    "time_series_dfs_813 = []\n",
    "\n",
    "for session in sessions: \n",
    "    \n",
    "    session_epi_fns = np.sort(glob.glob(os.path.join(fmriprep_path, 'sub-813/fmriprep/sub-813/ses-*' + str(session) + '/func/sub-813_ses-*'+ str(session) + '_task-lokicat_run-*_space-MNI152NLin2009cAsym_desc-preproc_bold.nii.gz')))\n",
    "\n",
    "    for epi_fn in session_epi_fns: \n",
    "        time_series_temp = masker.fit_transform(epi_fn, ) # get time series matrix \n",
    "        \n",
    "        # time series of BOLD data should be n_samples by n_nodes np.array\n",
    "        if time_series_temp.shape != (n_samples, n_nodes):\n",
    "            print('check dimensions of time series for ' + str(epi_fn)) \n",
    "        \n",
    "        time_series_temp_df_813 = pd.DataFrame(data=time_series_temp, columns=labels)\n",
    "        time_series_temp_df_813['session'] = session\n",
    "        time_series_temp_df_813['run'] = int(epi_fn[95:97])\n",
    "        time_series_temp_df_813['subject'] = int(epi_fn[30:33])\n",
    "        time_series_temp_df_813['sample_n'] = np.arange(0, len(time_series_temp))\n",
    "        time_series_temp_df_813['tr'] = np.arange(0, len(time_series_temp))\n",
    "\n",
    "        time_series_dfs_813.append(time_series_temp_df_813)\n",
    "        \n",
    "time_series_df_813 = pd.concat(time_series_dfs_813, axis=0) # concat ts df "
   ]
  },
  {
   "cell_type": "code",
   "execution_count": null,
   "metadata": {},
   "outputs": [],
   "source": [
    "time_series_df_813.head()\n",
    "time_series_df.to_csv(os.path.join(agg_data_path, 'subcort_ts_df_813.csv'), index=False)"
   ]
  }
 ],
 "metadata": {
  "kernelspec": {
   "display_name": "Python 3",
   "language": "python",
   "name": "python3"
  },
  "language_info": {
   "codemirror_mode": {
    "name": "ipython",
    "version": 2
   },
   "file_extension": ".py",
   "mimetype": "text/x-python",
   "name": "python",
   "nbconvert_exporter": "python",
   "pygments_lexer": "ipython2",
   "version": "2.7.17"
  }
 },
 "nbformat": 4,
 "nbformat_minor": 2
}
