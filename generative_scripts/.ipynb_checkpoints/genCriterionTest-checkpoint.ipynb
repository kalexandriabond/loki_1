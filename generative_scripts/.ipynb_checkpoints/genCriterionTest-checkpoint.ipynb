{
 "cells": [
  {
   "cell_type": "code",
   "execution_count": 60,
   "metadata": {
    "collapsed": false
   },
   "outputs": [],
   "source": [
    "import numpy as np \n",
    "import pandas as pd\n",
    "import seaborn as sns \n",
    "import matplotlib.pyplot as plt\n",
    "from os import path"
   ]
  },
  {
   "cell_type": "code",
   "execution_count": 88,
   "metadata": {
    "collapsed": false
   },
   "outputs": [],
   "source": [
    "home_path = os.path.expanduser('~') #need this to get correct home dir. across operating systems\n",
    "exp_param_path = home_path + \"/Dropbox/loki_1/fmri_experiment/experimental_parameters/\"\n",
    "file_name = \"training_greeble_images.csv\" #test file name "
   ]
  },
  {
   "cell_type": "code",
   "execution_count": 89,
   "metadata": {
    "collapsed": false
   },
   "outputs": [],
   "source": [
    "file_path = exp_param_path + file_name\n",
    "training_set_images = pd.read_csv(file_path)"
   ]
  },
  {
   "cell_type": "code",
   "execution_count": 65,
   "metadata": {
    "collapsed": false
   },
   "outputs": [],
   "source": [
    "#generate trial_n \n",
    "training_window = 20 \n",
    "max_cycles = 50 \n",
    "\n",
    "n_trials = max_cycles * training_window\n",
    "trials = np.arange(0, n_trials)"
   ]
  },
  {
   "cell_type": "code",
   "execution_count": 66,
   "metadata": {
    "collapsed": false
   },
   "outputs": [],
   "source": [
    "#generate trial_n \n",
    "training_window = 20 \n",
    "max_cycles = 50 \n",
    "\n",
    "n_trials = max_cycles * training_window\n",
    "trials = np.arange(0, n_trials)"
   ]
  },
  {
   "cell_type": "code",
   "execution_count": 67,
   "metadata": {
    "collapsed": false
   },
   "outputs": [
    {
     "data": {
      "text/plain": [
       "(1.0004088079753435, 1.4996784942892647)"
      ]
     },
     "execution_count": 67,
     "metadata": {},
     "output_type": "execute_result"
    }
   ],
   "source": [
    "iti_min = 1 #in s\n",
    "iti_max = 1.5\n",
    "\n",
    "itis = np.random.uniform(iti_min, iti_max, n_trials)\n",
    "\n",
    "itis.min(), itis.max()"
   ]
  },
  {
   "cell_type": "code",
   "execution_count": 44,
   "metadata": {
    "collapsed": false
   },
   "outputs": [
    {
     "data": {
      "image/png": "[encoded data removed]",
      "text/plain": [
       "<matplotlib.figure.Figure at 0x7f11c05d2fd0>"
      ]
     },
     "metadata": {},
     "output_type": "display_data"
    }
   ],
   "source": [
    "fig, ax = plt.subplots()\n",
    "ax.hist(itis, normed=False)\n",
    "plt.show()"
   ]
  },
  {
   "cell_type": "code",
   "execution_count": 48,
   "metadata": {
    "collapsed": false
   },
   "outputs": [],
   "source": [
    "#generate p_id_solution \n",
    "f_greeble = ord('f')\n",
    "m_greeble = ord('m') #in case male as solution \n",
    "\n",
    "p_id_solution = np.repeat(f_greeble, n_trials)"
   ]
  },
  {
   "cell_type": "code",
   "execution_count": 78,
   "metadata": {
    "collapsed": false
   },
   "outputs": [],
   "source": [
    "#f_image, m_image\n",
    "#needs to be for the training set for each person \n",
    "\n",
    "unique_m, unique_f = training_set_images['m_image'].unique(), training_set_images['f_image'].unique()\n",
    "\n",
    "m_image_samples, f_image_samples = (np.random.choice(unique_m, n_trials, replace=True), \n",
    "np.random.choice(unique_f, n_trials, replace=True))"
   ]
  },
  {
   "cell_type": "code",
   "execution_count": 90,
   "metadata": {
    "collapsed": false
   },
   "outputs": [],
   "source": [
    "data = np.column_stack([trials, m_image_samples, f_image_samples, p_id_solution, itis])\n",
    "header = ['trial', 'm_image', 'f_image', 'p_id_solution', 'iti']\n",
    "\n",
    "criterion_df = pd.DataFrame(data=data, columns=header)\n",
    "criterion_df.to_csv(exp_param_path + 'criterion_task_parameters.csv', header=True, index_label=True, index=False)"
   ]
  }
 ],
 "metadata": {
  "kernelspec": {
   "display_name": "Python [psychopy]",
   "language": "python",
   "name": "Python [psychopy]"
  },
  "language_info": {
   "codemirror_mode": {
    "name": "ipython",
    "version": 2
   },
   "file_extension": ".py",
   "mimetype": "text/x-python",
   "name": "python",
   "nbconvert_exporter": "python",
   "pygments_lexer": "ipython2",
   "version": "2.7.12"
  }
 },
 "nbformat": 4,
 "nbformat_minor": 0
}
