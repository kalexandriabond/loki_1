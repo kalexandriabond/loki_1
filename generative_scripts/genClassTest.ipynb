{
 "cells": [
  {
   "cell_type": "code",
   "execution_count": 1,
   "metadata": {},
   "outputs": [],
   "source": [
    "import numpy as np \n",
    "import pandas as pd\n",
    "import seaborn as sns \n",
    "import matplotlib.pyplot as plt\n",
    "# from os import path\n",
    "import os"
   ]
  },
  {
   "cell_type": "code",
   "execution_count": 2,
   "metadata": {},
   "outputs": [],
   "source": [
    "home_path = os.path.expanduser('~') #need this to get correct home dir. across operating systems\n",
    "exp_param_path = home_path + \"/Dropbox/loki_1/fmri_experiment/experimental_parameters/\"\n",
    "file_name = \"test_greeble_images.csv\" #test file name "
   ]
  },
  {
   "cell_type": "code",
   "execution_count": 3,
   "metadata": {},
   "outputs": [],
   "source": [
    "file_path = exp_param_path + file_name\n",
    "training_set_images = pd.read_csv(file_path)"
   ]
  },
  {
   "cell_type": "code",
   "execution_count": 4,
   "metadata": {},
   "outputs": [],
   "source": [
    "# n_trials = int(len(training_set_images)\n",
    "# n_trials"
   ]
  },
  {
   "cell_type": "code",
   "execution_count": 5,
   "metadata": {},
   "outputs": [],
   "source": [
    "family_id = [training_set_images.image[image][1].split('~') for image in range(len(training_set_images.image))]"
   ]
  },
  {
   "cell_type": "code",
   "execution_count": 6,
   "metadata": {},
   "outputs": [],
   "source": [
    "families = [int(family_id[family][0]) for family in range(len(family_id))]"
   ]
  },
  {
   "cell_type": "code",
   "execution_count": 7,
   "metadata": {},
   "outputs": [],
   "source": [
    "training_set_images['family'] = families"
   ]
  },
  {
   "cell_type": "code",
   "execution_count": 8,
   "metadata": {},
   "outputs": [
    {
     "data": {
      "text/html": [
       "<div>\n",
       "<style scoped>\n",
       "    .dataframe tbody tr th:only-of-type {\n",
       "        vertical-align: middle;\n",
       "    }\n",
       "\n",
       "    .dataframe tbody tr th {\n",
       "        vertical-align: top;\n",
       "    }\n",
       "\n",
       "    .dataframe thead th {\n",
       "        text-align: right;\n",
       "    }\n",
       "</style>\n",
       "<table border=\"1\" class=\"dataframe\">\n",
       "  <thead>\n",
       "    <tr style=\"text-align: right;\">\n",
       "      <th></th>\n",
       "      <th>image</th>\n",
       "      <th>family</th>\n",
       "    </tr>\n",
       "  </thead>\n",
       "  <tbody>\n",
       "    <tr>\n",
       "      <th>0</th>\n",
       "      <td>f5~54-v1.tif</td>\n",
       "      <td>5</td>\n",
       "    </tr>\n",
       "    <tr>\n",
       "      <th>1</th>\n",
       "      <td>m4~47-v1.tif</td>\n",
       "      <td>4</td>\n",
       "    </tr>\n",
       "    <tr>\n",
       "      <th>2</th>\n",
       "      <td>f3~31-v1.tif</td>\n",
       "      <td>3</td>\n",
       "    </tr>\n",
       "    <tr>\n",
       "      <th>3</th>\n",
       "      <td>m1~17-v1.tif</td>\n",
       "      <td>1</td>\n",
       "    </tr>\n",
       "    <tr>\n",
       "      <th>4</th>\n",
       "      <td>f5~51-v1.tif</td>\n",
       "      <td>5</td>\n",
       "    </tr>\n",
       "  </tbody>\n",
       "</table>\n",
       "</div>"
      ],
      "text/plain": [
       "          image  family\n",
       "0  f5~54-v1.tif       5\n",
       "1  m4~47-v1.tif       4\n",
       "2  f3~31-v1.tif       3\n",
       "3  m1~17-v1.tif       1\n",
       "4  f5~51-v1.tif       5"
      ]
     },
     "execution_count": 8,
     "metadata": {},
     "output_type": "execute_result"
    }
   ],
   "source": [
    "training_set_images.head()"
   ]
  },
  {
   "cell_type": "code",
   "execution_count": 11,
   "metadata": {},
   "outputs": [
    {
     "data": {
      "text/plain": [
       "True"
      ]
     },
     "execution_count": 11,
     "metadata": {},
     "output_type": "execute_result"
    }
   ],
   "source": [
    "#all are unique \n",
    "len(np.unique(training_set_images.image)) == len(training_set_images.image)"
   ]
  },
  {
   "cell_type": "code",
   "execution_count": 12,
   "metadata": {},
   "outputs": [],
   "source": [
    "#8 all members of a family, 4 random pairs \n",
    "#28 possible combinations (8 choose 2)\n",
    "#140 trials (5 families)\n",
    "\n",
    "\n",
    "sample_family=training_set_images.image[training_set_images.family == 5].values\n",
    "n_families = len(np.unique(training_set_images.family))"
   ]
  },
  {
   "cell_type": "code",
   "execution_count": 13,
   "metadata": {},
   "outputs": [
    {
     "name": "stdout",
     "output_type": "stream",
     "text": [
      "28.0\n",
      "140\n"
     ]
    }
   ],
   "source": [
    "from scipy.special import comb\n",
    "\n",
    "n_images_per_family = len(sample_family)\n",
    "n_choices = 2\n",
    "n_combinations_per_family = comb(n_images_per_family, n_choices, exact=False)\n",
    "\n",
    "print(n_combinations_per_family)\n",
    "\n",
    "\n",
    "n_trials = int(n_combinations_per_family*n_families)\n",
    "print(n_trials)\n"
   ]
  },
  {
   "cell_type": "code",
   "execution_count": 14,
   "metadata": {},
   "outputs": [
    {
     "data": {
      "text/plain": [
       "[None, None, None, None, None]"
      ]
     },
     "execution_count": 14,
     "metadata": {},
     "output_type": "execute_result"
    }
   ],
   "source": [
    "import itertools\n",
    "\n",
    "#for each family, get all combinations \n",
    "image_combinations = []\n",
    "\n",
    "[image_combinations.append(list(itertools.combinations(training_set_images.image[training_set_images.family == family].values, n_choices))) for family in range(1,6)]"
   ]
  },
  {
   "cell_type": "code",
   "execution_count": 15,
   "metadata": {},
   "outputs": [],
   "source": [
    "image_combinations = sum(image_combinations, [])\n",
    "\n",
    "np.random.shuffle(image_combinations)"
   ]
  },
  {
   "cell_type": "code",
   "execution_count": 16,
   "metadata": {},
   "outputs": [],
   "source": [
    "t1=[image_combinations[image_n][0] for image_n in range(len(image_combinations))]\n",
    "t2=[image_combinations[image_n][1] for image_n in range(len(image_combinations))]"
   ]
  },
  {
   "cell_type": "code",
   "execution_count": 17,
   "metadata": {},
   "outputs": [
    {
     "data": {
      "text/plain": [
       "(1.0060987086537, 1.4989002815829233)"
      ]
     },
     "execution_count": 17,
     "metadata": {},
     "output_type": "execute_result"
    }
   ],
   "source": [
    "iti_min = 1 #in s\n",
    "iti_max = 1.5\n",
    "\n",
    "itis = np.random.uniform(iti_min, iti_max, n_trials)\n",
    "\n",
    "itis.min(), itis.max()"
   ]
  },
  {
   "cell_type": "code",
   "execution_count": 29,
   "metadata": {},
   "outputs": [],
   "source": [
    "random_t1 = t1\n",
    "random_t2 = t2\n",
    "\n",
    "np.random.shuffle(random_t1)\n",
    "np.random.shuffle(random_t2)"
   ]
  },
  {
   "cell_type": "code",
   "execution_count": 32,
   "metadata": {},
   "outputs": [
    {
     "data": {
      "text/plain": [
       "['f5~56-v1.tif',\n",
       " 'm2~28-v1.tif',\n",
       " 'm3~36-v1.tif',\n",
       " 'f1~12-v1.tif',\n",
       " 'm5~56-v1.tif',\n",
       " 'f5~57-v1.tif',\n",
       " 'f2~23-v1.tif',\n",
       " 'f3~34-v1.tif',\n",
       " 'm5~56-v1.tif',\n",
       " 'm1~14-v1.tif',\n",
       " 'm5~56-v1.tif',\n",
       " 'm5~54-v1.tif',\n",
       " 'm1~15-v1.tif',\n",
       " 'f1~16-v1.tif',\n",
       " 'm3~32-v1.tif',\n",
       " 'm2~28-v1.tif',\n",
       " 'm2~23-v1.tif',\n",
       " 'm2~27-v1.tif',\n",
       " 'f3~34-v1.tif',\n",
       " 'm4~46-v1.tif',\n",
       " 'm2~27-v1.tif',\n",
       " 'm5~54-v1.tif',\n",
       " 'f3~35-v1.tif',\n",
       " 'f5~59-v1.tif',\n",
       " 'm5~56-v1.tif',\n",
       " 'm3~32-v1.tif',\n",
       " 'f4~45-v1.tif',\n",
       " 'f3~39-v1.tif',\n",
       " 'm3~36-v1.tif',\n",
       " 'f2~26-v1.tif',\n",
       " 'm2~27-v1.tif',\n",
       " 'm3~34-v1.tif',\n",
       " 'm4~48-v1.tif',\n",
       " 'f1~16-v1.tif',\n",
       " 'm2~28-v1.tif',\n",
       " 'f5~57-v1.tif',\n",
       " 'm5~54-v1.tif',\n",
       " 'm4~46-v1.tif',\n",
       " 'm5~55-v1.tif',\n",
       " 'f5~57-v1.tif',\n",
       " 'm1~110-v1.tif',\n",
       " 'm1~15-v1.tif',\n",
       " 'm5~54-v1.tif',\n",
       " 'f3~310-v1.tif',\n",
       " 'f4~43-v1.tif',\n",
       " 'f4~43-v1.tif',\n",
       " 'm2~23-v1.tif',\n",
       " 'f1~15-v1.tif',\n",
       " 'f1~16-v1.tif',\n",
       " 'f1~12-v1.tif',\n",
       " 'f2~23-v1.tif',\n",
       " 'm3~34-v1.tif',\n",
       " 'm2~26-v1.tif',\n",
       " 'm4~41-v1.tif',\n",
       " 'm4~49-v1.tif',\n",
       " 'm2~23-v1.tif',\n",
       " 'f4~45-v1.tif',\n",
       " 'm2~28-v1.tif',\n",
       " 'f4~43-v1.tif',\n",
       " 'm1~14-v1.tif',\n",
       " 'm3~32-v1.tif',\n",
       " 'm1~14-v1.tif',\n",
       " 'm1~15-v1.tif',\n",
       " 'f5~56-v1.tif',\n",
       " 'm3~36-v1.tif',\n",
       " 'f1~16-v1.tif',\n",
       " 'f3~310-v1.tif',\n",
       " 'f5~57-v1.tif',\n",
       " 'm5~55-v1.tif',\n",
       " 'f1~12-v1.tif',\n",
       " 'm2~27-v1.tif',\n",
       " 'f3~34-v1.tif',\n",
       " 'm4~46-v1.tif',\n",
       " 'm4~49-v1.tif',\n",
       " 'm4~48-v1.tif',\n",
       " 'm1~12-v1.tif',\n",
       " 'f5~57-v1.tif',\n",
       " 'm1~12-v1.tif',\n",
       " 'f3~39-v1.tif',\n",
       " 'f4~45-v1.tif',\n",
       " 'm2~28-v1.tif',\n",
       " 'm2~23-v1.tif',\n",
       " 'm3~36-v1.tif',\n",
       " 'm3~32-v1.tif',\n",
       " 'f5~51-v1.tif',\n",
       " 'f1~12-v1.tif',\n",
       " 'm4~46-v1.tif',\n",
       " 'f2~24-v1.tif',\n",
       " 'm1~110-v1.tif',\n",
       " 'f4~42-v1.tif',\n",
       " 'f3~34-v1.tif',\n",
       " 'f5~59-v1.tif',\n",
       " 'f5~56-v1.tif',\n",
       " 'f4~43-v1.tif',\n",
       " 'f5~59-v1.tif',\n",
       " 'f4~43-v1.tif',\n",
       " 'f4~45-v1.tif',\n",
       " 'm5~54-v1.tif',\n",
       " 'f2~24-v1.tif',\n",
       " 'f3~34-v1.tif',\n",
       " 'm1~14-v1.tif',\n",
       " 'f4~45-v1.tif',\n",
       " 'f5~59-v1.tif',\n",
       " 'm4~49-v1.tif',\n",
       " 'f2~23-v1.tif',\n",
       " 'm4~49-v1.tif',\n",
       " 'm3~32-v1.tif',\n",
       " 'f3~310-v1.tif',\n",
       " 'm3~32-v1.tif',\n",
       " 'm5~56-v1.tif',\n",
       " 'm1~15-v1.tif',\n",
       " 'm4~49-v1.tif',\n",
       " 'm2~27-v1.tif',\n",
       " 'f1~16-v1.tif',\n",
       " 'f3~34-v1.tif',\n",
       " 'f3~310-v1.tif',\n",
       " 'f2~26-v1.tif',\n",
       " 'f2~24-v1.tif',\n",
       " 'm4~41-v1.tif',\n",
       " 'm3~34-v1.tif',\n",
       " 'm2~23-v1.tif',\n",
       " 'm2~23-v1.tif',\n",
       " 'f2~23-v1.tif',\n",
       " 'm4~49-v1.tif',\n",
       " 'm2~28-v1.tif',\n",
       " 'm3~32-v1.tif',\n",
       " 'f1~16-v1.tif',\n",
       " 'f1~12-v1.tif',\n",
       " 'f5~57-v1.tif',\n",
       " 'f3~310-v1.tif',\n",
       " 'f1~12-v1.tif',\n",
       " 'm4~49-v1.tif',\n",
       " 'm5~54-v1.tif',\n",
       " 'm2~28-v1.tif',\n",
       " 'm4~48-v1.tif',\n",
       " 'f5~57-v1.tif',\n",
       " 'f4~43-v1.tif',\n",
       " 'f1~16-v1.tif',\n",
       " 'm1~12-v1.tif',\n",
       " 'm1~14-v1.tif']"
      ]
     },
     "execution_count": 32,
     "metadata": {},
     "output_type": "execute_result"
    }
   ],
   "source": [
    "random_t2"
   ]
  },
  {
   "cell_type": "code",
   "execution_count": 19,
   "metadata": {},
   "outputs": [
    {
     "data": {
      "text/plain": [
       "['f1~12-v1.tif',\n",
       " 'm3~34-v1.tif',\n",
       " 'm3~32-v1.tif',\n",
       " 'f4~43-v1.tif',\n",
       " 'm3~36-v1.tif',\n",
       " 'f3~310-v1.tif',\n",
       " 'm2~26-v1.tif',\n",
       " 'm2~27-v1.tif',\n",
       " 'm3~36-v1.tif',\n",
       " 'f1~16-v1.tif',\n",
       " 'm5~54-v1.tif',\n",
       " 'f1~16-v1.tif',\n",
       " 'm4~49-v1.tif',\n",
       " 'm2~23-v1.tif',\n",
       " 'f2~23-v1.tif',\n",
       " 'm2~23-v1.tif',\n",
       " 'f5~51-v1.tif',\n",
       " 'f4~45-v1.tif',\n",
       " 'f2~23-v1.tif',\n",
       " 'm3~34-v1.tif',\n",
       " 'm3~32-v1.tif',\n",
       " 'f3~34-v1.tif',\n",
       " 'f4~43-v1.tif',\n",
       " 'm2~27-v1.tif',\n",
       " 'm1~15-v1.tif',\n",
       " 'f5~59-v1.tif',\n",
       " 'm1~14-v1.tif',\n",
       " 'f1~12-v1.tif',\n",
       " 'm2~23-v1.tif',\n",
       " 'm5~56-v1.tif',\n",
       " 'm4~46-v1.tif',\n",
       " 'f5~56-v1.tif',\n",
       " 'm1~12-v1.tif',\n",
       " 'm1~14-v1.tif',\n",
       " 'm1~15-v1.tif',\n",
       " 'm4~49-v1.tif',\n",
       " 'm5~55-v1.tif',\n",
       " 'f1~12-v1.tif',\n",
       " 'm4~49-v1.tif',\n",
       " 'f3~34-v1.tif',\n",
       " 'm2~28-v1.tif',\n",
       " 'f1~16-v1.tif',\n",
       " 'm2~23-v1.tif',\n",
       " 'f3~34-v1.tif',\n",
       " 'm4~48-v1.tif',\n",
       " 'f3~35-v1.tif',\n",
       " 'f2~23-v1.tif',\n",
       " 'm2~28-v1.tif',\n",
       " 'm5~54-v1.tif',\n",
       " 'm2~28-v1.tif',\n",
       " 'f1~16-v1.tif',\n",
       " 'm3~36-v1.tif',\n",
       " 'm4~48-v1.tif',\n",
       " 'm5~56-v1.tif',\n",
       " 'm2~28-v1.tif',\n",
       " 'f5~57-v1.tif',\n",
       " 'm2~28-v1.tif',\n",
       " 'm2~23-v1.tif',\n",
       " 'm3~36-v1.tif',\n",
       " 'm4~48-v1.tif',\n",
       " 'f5~59-v1.tif',\n",
       " 'm1~14-v1.tif',\n",
       " 'm4~46-v1.tif',\n",
       " 'f3~39-v1.tif',\n",
       " 'm1~12-v1.tif',\n",
       " 'f4~45-v1.tif',\n",
       " 'f1~15-v1.tif',\n",
       " 'm3~32-v1.tif',\n",
       " 'f5~57-v1.tif',\n",
       " 'f1~16-v1.tif',\n",
       " 'm5~54-v1.tif',\n",
       " 'm3~32-v1.tif',\n",
       " 'm2~27-v1.tif',\n",
       " 'f1~12-v1.tif',\n",
       " 'm1~110-v1.tif',\n",
       " 'f2~24-v1.tif',\n",
       " 'm5~56-v1.tif',\n",
       " 'm5~54-v1.tif',\n",
       " 'f3~310-v1.tif',\n",
       " 'm3~32-v1.tif',\n",
       " 'm5~56-v1.tif',\n",
       " 'm2~23-v1.tif',\n",
       " 'm5~54-v1.tif',\n",
       " 'f5~57-v1.tif',\n",
       " 'f3~34-v1.tif',\n",
       " 'f4~43-v1.tif',\n",
       " 'm5~56-v1.tif',\n",
       " 'm1~14-v1.tif',\n",
       " 'm3~32-v1.tif',\n",
       " 'f3~34-v1.tif',\n",
       " 'f2~24-v1.tif',\n",
       " 'f3~310-v1.tif',\n",
       " 'f2~24-v1.tif',\n",
       " 'f4~43-v1.tif',\n",
       " 'm4~46-v1.tif',\n",
       " 'f3~310-v1.tif',\n",
       " 'm1~14-v1.tif',\n",
       " 'm1~15-v1.tif',\n",
       " 'f1~16-v1.tif',\n",
       " 'f4~45-v1.tif',\n",
       " 'f5~57-v1.tif',\n",
       " 'm5~55-v1.tif',\n",
       " 'f1~12-v1.tif',\n",
       " 'f5~57-v1.tif',\n",
       " 'f5~56-v1.tif',\n",
       " 'f5~59-v1.tif',\n",
       " 'f2~26-v1.tif',\n",
       " 'f4~43-v1.tif',\n",
       " 'f4~42-v1.tif',\n",
       " 'f4~45-v1.tif',\n",
       " 'f4~43-v1.tif',\n",
       " 'm4~41-v1.tif',\n",
       " 'f3~310-v1.tif',\n",
       " 'm4~49-v1.tif',\n",
       " 'f3~39-v1.tif',\n",
       " 'f5~56-v1.tif',\n",
       " 'm2~28-v1.tif',\n",
       " 'm3~34-v1.tif',\n",
       " 'm4~46-v1.tif',\n",
       " 'f5~59-v1.tif',\n",
       " 'm1~15-v1.tif',\n",
       " 'm2~27-v1.tif',\n",
       " 'f1~12-v1.tif',\n",
       " 'm4~49-v1.tif',\n",
       " 'm1~110-v1.tif',\n",
       " 'm4~49-v1.tif',\n",
       " 'f5~57-v1.tif',\n",
       " 'm1~12-v1.tif',\n",
       " 'm4~49-v1.tif',\n",
       " 'm3~32-v1.tif',\n",
       " 'f2~26-v1.tif',\n",
       " 'f5~57-v1.tif',\n",
       " 'm4~41-v1.tif',\n",
       " 'm2~27-v1.tif',\n",
       " 'f2~23-v1.tif',\n",
       " 'm5~54-v1.tif',\n",
       " 'f4~45-v1.tif',\n",
       " 'm2~28-v1.tif',\n",
       " 'f1~16-v1.tif',\n",
       " 'f3~34-v1.tif']"
      ]
     },
     "execution_count": 19,
     "metadata": {},
     "output_type": "execute_result"
    }
   ],
   "source": [
    "random.choice"
   ]
  },
  {
   "cell_type": "code",
   "execution_count": 18,
   "metadata": {},
   "outputs": [
    {
     "data": {
      "text/plain": [
       "['f1~15-v1.tif',\n",
       " 'f3~31-v1.tif',\n",
       " 'm3~36-v1.tif',\n",
       " 'm4~41-v1.tif',\n",
       " 'm3~34-v1.tif',\n",
       " 'f3~35-v1.tif',\n",
       " 'm2~29-v1.tif',\n",
       " 'm2~26-v1.tif',\n",
       " 'f3~39-v1.tif',\n",
       " 'm1~110-v1.tif',\n",
       " 'm5~56-v1.tif',\n",
       " 'f1~12-v1.tif',\n",
       " 'f4~45-v1.tif',\n",
       " 'm2~27-v1.tif',\n",
       " 'f2~26-v1.tif',\n",
       " 'f2~26-v1.tif',\n",
       " 'f5~54-v1.tif',\n",
       " 'm4~48-v1.tif',\n",
       " 'f2~24-v1.tif',\n",
       " 'f3~35-v1.tif',\n",
       " 'f3~31-v1.tif',\n",
       " 'f3~39-v1.tif',\n",
       " 'f4~42-v1.tif',\n",
       " 'f2~23-v1.tif',\n",
       " 'f1~15-v1.tif',\n",
       " 'f5~51-v1.tif',\n",
       " 'm1~15-v1.tif',\n",
       " 'm1~110-v1.tif',\n",
       " 'm2~26-v1.tif',\n",
       " 'f5~59-v1.tif',\n",
       " 'm4~47-v1.tif',\n",
       " 'f5~51-v1.tif',\n",
       " 'm1~17-v1.tif',\n",
       " 'm1~110-v1.tif',\n",
       " 'm1~17-v1.tif',\n",
       " 'm4~48-v1.tif',\n",
       " 'f5~54-v1.tif',\n",
       " 'm1~14-v1.tif',\n",
       " 'f4~42-v1.tif',\n",
       " 'm3~36-v1.tif',\n",
       " 'm2~27-v1.tif',\n",
       " 'm1~12-v1.tif',\n",
       " 'f2~23-v1.tif',\n",
       " 'f3~35-v1.tif',\n",
       " 'm4~47-v1.tif',\n",
       " 'f3~31-v1.tif',\n",
       " 'm2~29-v1.tif',\n",
       " 'm2~26-v1.tif',\n",
       " 'f5~54-v1.tif',\n",
       " 'f2~23-v1.tif',\n",
       " 'm1~17-v1.tif',\n",
       " 'f3~35-v1.tif',\n",
       " 'm4~41-v1.tif',\n",
       " 'f5~54-v1.tif',\n",
       " 'm2~29-v1.tif',\n",
       " 'f5~59-v1.tif',\n",
       " 'f2~24-v1.tif',\n",
       " 'm2~29-v1.tif',\n",
       " 'f3~31-v1.tif',\n",
       " 'f4~42-v1.tif',\n",
       " 'f5~54-v1.tif',\n",
       " 'm1~17-v1.tif',\n",
       " 'm4~48-v1.tif',\n",
       " 'f3~35-v1.tif',\n",
       " 'm1~110-v1.tif',\n",
       " 'm4~46-v1.tif',\n",
       " 'm1~17-v1.tif',\n",
       " 'f3~35-v1.tif',\n",
       " 'm5~55-v1.tif',\n",
       " 'f1~15-v1.tif',\n",
       " 'f5~59-v1.tif',\n",
       " 'f3~39-v1.tif',\n",
       " 'f2~26-v1.tif',\n",
       " 'm1~15-v1.tif',\n",
       " 'f1~15-v1.tif',\n",
       " 'm2~26-v1.tif',\n",
       " 'm5~55-v1.tif',\n",
       " 'f5~51-v1.tif',\n",
       " 'm3~34-v1.tif',\n",
       " 'f3~310-v1.tif',\n",
       " 'f5~51-v1.tif',\n",
       " 'f2~24-v1.tif',\n",
       " 'm5~55-v1.tif',\n",
       " 'm5~56-v1.tif',\n",
       " 'm3~34-v1.tif',\n",
       " 'm4~48-v1.tif',\n",
       " 'f5~56-v1.tif',\n",
       " 'f1~15-v1.tif',\n",
       " 'f3~34-v1.tif',\n",
       " 'f3~31-v1.tif',\n",
       " 'm2~29-v1.tif',\n",
       " 'f3~31-v1.tif',\n",
       " 'f2~26-v1.tif',\n",
       " 'f4~45-v1.tif',\n",
       " 'f4~42-v1.tif',\n",
       " 'm3~36-v1.tif',\n",
       " 'm1~12-v1.tif',\n",
       " 'm1~12-v1.tif',\n",
       " 'm1~14-v1.tif',\n",
       " 'm4~47-v1.tif',\n",
       " 'f5~54-v1.tif',\n",
       " 'f5~51-v1.tif',\n",
       " 'm1~17-v1.tif',\n",
       " 'm5~54-v1.tif',\n",
       " 'm5~55-v1.tif',\n",
       " 'f5~56-v1.tif',\n",
       " 'm2~29-v1.tif',\n",
       " 'm4~47-v1.tif',\n",
       " 'm4~47-v1.tif',\n",
       " 'm4~41-v1.tif',\n",
       " 'm4~46-v1.tif',\n",
       " 'f4~42-v1.tif',\n",
       " 'f3~39-v1.tif',\n",
       " 'm4~46-v1.tif',\n",
       " 'f3~31-v1.tif',\n",
       " 'f5~54-v1.tif',\n",
       " 'f2~26-v1.tif',\n",
       " 'f3~39-v1.tif',\n",
       " 'm4~41-v1.tif',\n",
       " 'm5~55-v1.tif',\n",
       " 'm1~110-v1.tif',\n",
       " 'f2~24-v1.tif',\n",
       " 'm1~12-v1.tif',\n",
       " 'm4~41-v1.tif',\n",
       " 'm1~17-v1.tif',\n",
       " 'f4~43-v1.tif',\n",
       " 'f5~51-v1.tif',\n",
       " 'f1~15-v1.tif',\n",
       " 'm4~47-v1.tif',\n",
       " 'm3~34-v1.tif',\n",
       " 'm2~26-v1.tif',\n",
       " 'f5~56-v1.tif',\n",
       " 'm4~47-v1.tif',\n",
       " 'm2~29-v1.tif',\n",
       " 'm2~26-v1.tif',\n",
       " 'f5~56-v1.tif',\n",
       " 'f4~42-v1.tif',\n",
       " 'm2~23-v1.tif',\n",
       " 'm1~15-v1.tif',\n",
       " 'f3~310-v1.tif']"
      ]
     },
     "execution_count": 18,
     "metadata": {},
     "output_type": "execute_result"
    }
   ],
   "source": [
    "t1"
   ]
  },
  {
   "cell_type": "code",
   "execution_count": 159,
   "metadata": {},
   "outputs": [
    {
     "data": {
      "image/png": "[encoded data removed]",
      "text/plain": [
       "<matplotlib.figure.Figure at 0x7ff82fe0a410>"
      ]
     },
     "metadata": {},
     "output_type": "display_data"
    }
   ],
   "source": [
    "fig, ax = plt.subplots()\n",
    "ax.hist(itis, normed=False)\n",
    "plt.show()"
   ]
  },
  {
   "cell_type": "code",
   "execution_count": 161,
   "metadata": {},
   "outputs": [],
   "source": [
    "#generate p_id_solution \n",
    "solution = ord('L') \n",
    "\n",
    "LR_solution = np.repeat(solution, n_trials)\n",
    "\n",
    "\n",
    "#1=same, 0=different\n"
   ]
  },
  {
   "cell_type": "code",
   "execution_count": 166,
   "metadata": {},
   "outputs": [],
   "source": [
    "trials = range(0, n_trials)"
   ]
  },
  {
   "cell_type": "code",
   "execution_count": 169,
   "metadata": {},
   "outputs": [],
   "source": [
    "data = np.column_stack([trials, t1, t2, LR_solution, itis])\n",
    "header = ['trial', 't1_image', 't2_image', 'LR_solution', 'iti']\n",
    "\n",
    "class_df = pd.DataFrame(data=data, columns=header)\n",
    "class_df.to_csv(exp_param_path + 'classification_task_parameters.csv', header=True, index_label=True, index=False)"
   ]
  },
  {
   "cell_type": "code",
   "execution_count": null,
   "metadata": {
    "collapsed": true
   },
   "outputs": [],
   "source": []
  }
 ],
 "metadata": {
  "kernelspec": {
   "display_name": "Python 3",
   "language": "python",
   "name": "python3"
  },
  "language_info": {
   "codemirror_mode": {
    "name": "ipython",
    "version": 3
   },
   "file_extension": ".py",
   "mimetype": "text/x-python",
   "name": "python",
   "nbconvert_exporter": "python",
   "pygments_lexer": "ipython3",
   "version": "3.6.8"
  }
 },
 "nbformat": 4,
 "nbformat_minor": 1
}
