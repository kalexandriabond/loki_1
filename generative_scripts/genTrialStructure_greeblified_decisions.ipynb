{
 "cells": [
  {
   "cell_type": "code",
   "execution_count": 1,
   "metadata": {},
   "outputs": [],
   "source": [
    "import numpy as np \n",
    "import matplotlib.pyplot as plt \n",
    "import os \n",
    "import pandas as pd\n",
    "from operator import sub, add\n",
    "import glob\n",
    "from random import shuffle\n",
    "from itertools import product\n",
    "from scipy import stats"
   ]
  },
  {
   "cell_type": "code",
   "execution_count": 2,
   "metadata": {},
   "outputs": [
    {
     "data": {
      "text/plain": [
       "'/Users/67981492/Documents/loki_1/experimental_parameters/reward_parameters'"
      ]
     },
     "execution_count": 2,
     "metadata": {},
     "output_type": "execute_result"
    }
   ],
   "source": [
    "home_path = os.path.expanduser('~') #need this to get correct home dir. across operating systems\n",
    "\n",
    "\n",
    "exp_param_path = home_path + \"/Documents/loki_1/experimental_parameters/reward_parameters/\"\n",
    "img_path = home_path + \"/Documents/loki_1/images/symm_greebles/\"\n",
    "\n",
    "file_name = home_path+\"/Documents/loki_1/experimental_parameters/training_greeble_images.csv\"\n",
    "training_set_images = pd.read_csv(file_name)\n",
    "\n",
    "sample_itis = pd.read_csv(glob.glob(os.path.join(home_path,\n",
    "                                          \"Documents/loki_1/experimental_parameters/reward_parameters/*.csv\")\n",
    "                            )[0]).iti\n",
    "os.chdir(exp_param_path)\n",
    "os.getcwd()"
   ]
  },
  {
   "cell_type": "code",
   "execution_count": 3,
   "metadata": {},
   "outputs": [],
   "source": [
    "n_trials = 300"
   ]
  },
  {
   "cell_type": "code",
   "execution_count": 4,
   "metadata": {},
   "outputs": [],
   "source": [
    "def define_reward(opt_p, n_trials = 300, reward_mu=3, reward_std=1):\n",
    "\n",
    "    trial_index = np.arange(n_trials)\n",
    "    \n",
    "    #define suboptimal choice reward probability\n",
    "    subopt_p = 1 - opt_p\n",
    "\n",
    "    #sample rewards\n",
    "    reward_values = np.random.normal(loc=reward_mu, scale=reward_std, size=n_trials)\n",
    "\n",
    "    #calcualte n_trials based on probabilities \n",
    "    n_opt_reward_trials = int(opt_p * n_trials)\n",
    "    n_subopt_reward_trials = int(subopt_p * n_trials)\n",
    "\n",
    "    #find indices for optimal and suboptimal choices \n",
    "    opt_reward_idx = np.random.choice(trial_index, size=n_opt_reward_trials, replace=False)\n",
    "    subopt_reward_idx = np.setxor1d(trial_index, opt_reward_idx)\n",
    "\n",
    "    #intialize reward vectors\n",
    "    reward_t1, reward_t2 = np.zeros((n_trials)),np.zeros((n_trials))\n",
    "\n",
    "    #assign rewards\n",
    "    reward_t1[opt_reward_idx] = reward_values[opt_reward_idx] \n",
    "    reward_t2[subopt_reward_idx] = reward_values[subopt_reward_idx]\n",
    "        \n",
    "    return reward_t1, reward_t2"
   ]
  },
  {
   "cell_type": "code",
   "execution_count": 5,
   "metadata": {},
   "outputs": [],
   "source": [
    "def define_changepoints(n_trials, reward_t1, reward_t2, cp_lambda):\n",
    "\n",
    "    n_cps = int(n_trials/cp_lambda) #find approximate number of change points\n",
    "    cp_base = np.cumsum(np.random.poisson(lam=cp_lambda,size=n_cps)) #calculate cp indices\n",
    "    \n",
    "    cp_idx = np.insert(cp_base,0,0) #add 0\n",
    "    cp_idx = np.append(cp_idx,n_trials-1) #add 0\n",
    "\n",
    "    cp_idx = cp_idx[cp_idx < n_trials] \n",
    "    \n",
    "    cp_indicator = np.zeros(n_trials)\n",
    "    cp_indicator[cp_idx] = 1\n",
    "    \n",
    "    return cp_idx, cp_indicator"
   ]
  },
  {
   "cell_type": "code",
   "execution_count": 6,
   "metadata": {},
   "outputs": [],
   "source": [
    "def define_epochs(n_trials, reward_t1, reward_t2, cp_idx, opt_p):\n",
    "    \n",
    "    t1_epochs = []\n",
    "    t2_epochs = []\n",
    "    \n",
    "    subopt_p = 1 - opt_p\n",
    "    \n",
    "    epoch_number = []\n",
    "    epoch_trial = []\n",
    "    epoch_length = []\n",
    "    \n",
    "    reward_p = []\n",
    "\n",
    "    \n",
    "    p_id_solution = [] #female greeble is always first \n",
    "    \n",
    "    f_greeble = ord('f')\n",
    "    m_greeble = ord('m')\n",
    "\n",
    "    current_target = True\n",
    "    for i in range(len(cp_idx)-1):\n",
    "        if current_target: \n",
    "            t1_epochs.append(reward_t1[cp_idx[i]:cp_idx[i+1]])\n",
    "            t2_epochs.append(reward_t2[cp_idx[i]:cp_idx[i+1]])\n",
    "            reward_p.append(np.repeat(opt_p, cp_idx[i+1]-cp_idx[i]))\n",
    "            p_id_solution.append(np.repeat(f_greeble, cp_idx[i+1]-cp_idx[i]))\n",
    "        else: \n",
    "            t1_epochs.append(reward_t2[cp_idx[i]:cp_idx[i+1]])\n",
    "            t2_epochs.append(reward_t1[cp_idx[i]:cp_idx[i+1]])\n",
    "            reward_p.append(np.repeat(subopt_p, cp_idx[i+1]-cp_idx[i]))\n",
    "            p_id_solution.append(np.repeat(m_greeble, cp_idx[i+1]-cp_idx[i]))\n",
    "        \n",
    "        epoch_number.append(np.repeat(i, cp_idx[i+1]-cp_idx[i]))\n",
    "        epoch_trial.append(np.arange(cp_idx[i+1]-cp_idx[i]))\n",
    "        epoch_length.append(np.repeat(len(np.arange(cp_idx[i+1]-cp_idx[i])),repeats=len(np.arange(cp_idx[i+1]-cp_idx[i]))))\n",
    "\n",
    "        if i == len(cp_idx)-2:\n",
    "            if current_target:\n",
    "                t1_epochs.append(reward_t1[-1])\n",
    "                t2_epochs.append(reward_t2[-1])\n",
    "                reward_p.append(opt_p)\n",
    "                p_id_solution.append(f_greeble)\n",
    "            else:\n",
    "                t1_epochs.append(reward_t2[-1])\n",
    "                t2_epochs.append(reward_t1[-1])\n",
    "                reward_p.append(opt_p)\n",
    "                p_id_solution.append(m_greeble)\n",
    "\n",
    "            epoch_number.append(i)\n",
    "            \n",
    "    \n",
    "\n",
    "        current_target = not(current_target)\n",
    "    \n",
    "    epoch_length[-1] = epoch_length[-1] + 1\n",
    "    #flatten    \n",
    "    epoch_number = np.hstack(epoch_number).astype('float')\n",
    "    epoch_trial = np.hstack(epoch_trial).astype('float')\n",
    "    epoch_length = np.hstack(epoch_length).astype('float')\n",
    "    \n",
    "    epoch_trial = np.append(epoch_trial, (epoch_trial[-1] + 1))\n",
    "    epoch_length = np.append(epoch_length, epoch_length[-1])\n",
    "\n",
    "    t1_epochs = np.hstack(t1_epochs)\n",
    "    t2_epochs = np.hstack(t2_epochs)\n",
    "    reward_p = np.hstack(reward_p).astype('float')\n",
    "    reward_p[-1] = reward_p[-2]\n",
    "    p_id_solution = np.hstack(p_id_solution)\n",
    "\n",
    "    return t1_epochs, t2_epochs, epoch_number, reward_p, p_id_solution, epoch_trial, epoch_length"
   ]
  },
  {
   "cell_type": "code",
   "execution_count": 7,
   "metadata": {},
   "outputs": [],
   "source": [
    "def define_observed_cps(n_trials, t1_epochs):\n",
    "    \n",
    "    observed_cp_indicator = np.hstack([False, np.diff(t1_epochs == 0)]).astype('float')\n",
    "    \n",
    "    return observed_cp_indicator"
   ]
  },
  {
   "cell_type": "code",
   "execution_count": 8,
   "metadata": {},
   "outputs": [
    {
     "data": {
      "text/plain": [
       "5.0"
      ]
     },
     "execution_count": 8,
     "metadata": {},
     "output_type": "execute_result"
    }
   ],
   "source": [
    "n_trials /len(sample_itis) "
   ]
  },
  {
   "cell_type": "code",
   "execution_count": 9,
   "metadata": {},
   "outputs": [],
   "source": [
    "def gen_itis(n_trials, sample_itis):\n",
    "    \n",
    "#     iti_min=6.5,iti_max=9.5\n",
    "\n",
    "#     rate_param = 1.25\n",
    "#     lower, upper, scale = iti_min, iti_max, rate_param\n",
    "#     X = stats.truncexpon(b=(upper-lower)/scale, loc=lower, scale=scale)\n",
    "#     itis = X.rvs(n_trials)\n",
    "    \n",
    "    itis = np.random.permutation(np.repeat(sample_itis, n_trials // len(sample_itis)))\n",
    "\n",
    "    \n",
    "    \n",
    "    return itis"
   ]
  },
  {
   "cell_type": "code",
   "execution_count": 10,
   "metadata": {},
   "outputs": [
    {
     "name": "stdout",
     "output_type": "stream",
     "text": [
      "[0.65 0.75 0.85] [10 20 30]\n"
     ]
    }
   ],
   "source": [
    "subjects = np.arange(0,2)\n",
    "n_runs = 5\n",
    "initial_s_id = 811\n",
    "# subject_ids = np.arange(initial_s_id, initial_s_id+len(subjects))\n",
    "subject_ids = np.array([811, 860])\n",
    "\n",
    "\n",
    "#here you would specify minimum and maximum probabilities, along with the increment \n",
    "min_p = 0.65\n",
    "max_p = 0.95\n",
    "step_p = 0.10\n",
    "\n",
    "#Here you would specify the # trials before a switch in the optimal target identity \n",
    "min_e = 10\n",
    "max_e  = 40\n",
    "step_e = 10\n",
    "\n",
    "conflict_means = np.arange(min_p, max_p, step_p)\n",
    "vol_means = np.arange(min_e, max_e, step_e)\n",
    "\n",
    "print(conflict_means, vol_means)\n",
    "\n",
    "min_epoch_length = 4\n",
    "\n",
    "conf_vol_combinations = np.round(list(product(conflict_means, vol_means)),2)\n",
    "\n",
    "trials = np.arange(n_trials)"
   ]
  },
  {
   "cell_type": "code",
   "execution_count": 11,
   "metadata": {},
   "outputs": [
    {
     "data": {
      "text/plain": [
       "array([[ 0.65, 10.  ],\n",
       "       [ 0.65, 20.  ],\n",
       "       [ 0.65, 30.  ],\n",
       "       [ 0.75, 10.  ],\n",
       "       [ 0.75, 20.  ],\n",
       "       [ 0.75, 30.  ],\n",
       "       [ 0.85, 10.  ],\n",
       "       [ 0.85, 20.  ],\n",
       "       [ 0.85, 30.  ]])"
      ]
     },
     "execution_count": 11,
     "metadata": {},
     "output_type": "execute_result"
    }
   ],
   "source": [
    "conf_vol_combinations"
   ]
  },
  {
   "cell_type": "code",
   "execution_count": 12,
   "metadata": {},
   "outputs": [
    {
     "data": {
      "text/plain": [
       "array([ 0.85, 30.  ])"
      ]
     },
     "execution_count": 12,
     "metadata": {},
     "output_type": "execute_result"
    }
   ],
   "source": [
    "conf_vol_combinations[8]"
   ]
  },
  {
   "cell_type": "code",
   "execution_count": 13,
   "metadata": {},
   "outputs": [
    {
     "name": "stdout",
     "output_type": "stream",
     "text": [
      "811\n",
      "[ 0.65 10.  ]\n",
      "811\n",
      "[ 0.65 20.  ]\n",
      "811\n",
      "[ 0.65 30.  ]\n",
      "811\n",
      "[ 0.75 10.  ]\n",
      "811\n",
      "[ 0.75 20.  ]\n",
      "811\n",
      "[ 0.75 30.  ]\n",
      "811\n",
      "[ 0.85 10.  ]\n",
      "811\n",
      "[ 0.85 20.  ]\n",
      "811\n",
      "[ 0.85 30.  ]\n",
      "860\n",
      "[ 0.65 10.  ]\n",
      "860\n",
      "[ 0.65 20.  ]\n",
      "860\n",
      "[ 0.65 30.  ]\n",
      "860\n",
      "[ 0.75 10.  ]\n",
      "860\n",
      "[ 0.75 20.  ]\n",
      "860\n",
      "[ 0.75 30.  ]\n",
      "860\n",
      "[ 0.85 10.  ]\n",
      "860\n",
      "[ 0.85 20.  ]\n",
      "860\n",
      "[ 0.85 30.  ]\n"
     ]
    }
   ],
   "source": [
    "print_concat_df = False\n",
    "\n",
    "\n",
    "for subject in subject_ids:\n",
    "    for session_n,session in enumerate(conf_vol_combinations): \n",
    "        \n",
    "        print(subject)\n",
    "        print(session)\n",
    "\n",
    "        \n",
    "        opt_p=session[0]\n",
    "        cp_lambda=session[1]\n",
    "        \n",
    "        min_epoch_length=0\n",
    "        \n",
    "        while min_epoch_length <=3: #need enough trials to analyze per epoch\n",
    "        \n",
    "            reward_t1, reward_t2 = define_reward(opt_p=opt_p, n_trials = 300, reward_mu=3, reward_std=1)\n",
    "            cp_idx,cp_indicator = define_changepoints(n_trials, reward_t1, reward_t2, cp_lambda=cp_lambda)\n",
    "            t1_epochs, t2_epochs, epoch_number,reward_p, p_id_solution, epoch_trial, epoch_length = define_epochs(n_trials, reward_t1, reward_t2, cp_idx, opt_p)\n",
    "            observed_cp_indicator=define_observed_cps(n_trials, t1_epochs)\n",
    "            itis = gen_itis(n_trials, sample_itis)\n",
    "            \n",
    "            min_epoch_length = min(epoch_length)\n",
    "    \n",
    "        filename = str(subject) + '_' + 'reward' + str(session_n) + '_' + 'cond' + str(int(opt_p*100)) + str(int(cp_lambda)) \n",
    "               \n",
    "#         header = ('trial,r_t1,r_t2,cp,obs_cp,epoch_number,reward_p, m_image, f_image')\n",
    "#         data = np.transpose(np.matrix((trials,t1_epochs, t2_epochs, cp_indicator, observed_cp_indicator, epoch_number, reward_p, training_set_images.m_image.values, training_set_images.f_image.values)))\n",
    "#         np.savetxt(exp_param_path+filename, data, header=header, comments='',delimiter=',')\n",
    "\n",
    "        header = ['trial','r_t0','r_t1','cp','obs_cp','epoch_number','reward_p_t0', \n",
    "                  'm_image', 'f_image', 'iti', 'p_id_solution', 'epoch_trial', 'epoch_length']\n",
    "\n",
    "        \n",
    "        # subset the training set images in case of varying n_trials\n",
    "        training_set_images = training_set_images[:n_trials]\n",
    "        \n",
    "        #shuffle the order of the images\n",
    "        np.random.shuffle(training_set_images.m_image.values)\n",
    "        np.random.shuffle(training_set_images.f_image.values)\n",
    "\n",
    "        data = pd.DataFrame(data=np.transpose(np.matrix((trials,t1_epochs, t2_epochs, cp_indicator, observed_cp_indicator, epoch_number, reward_p, training_set_images.m_image.values, training_set_images.f_image.values, itis, p_id_solution, epoch_trial, epoch_length))), columns=header)\n",
    "\n",
    "        if print_concat_df: \n",
    "            data.to_csv(exp_param_path+filename + '.csv',index=False)\n",
    "        \n",
    "        #data split among runs \n",
    "        split_df = np.array_split(data, n_runs)\n",
    "        \n",
    "        [split_df[run].to_csv(exp_param_path+filename+'_run' + str(run+1) + '.csv', index=False)\n",
    "         for run in range(len(split_df))]        \n"
   ]
  },
  {
   "cell_type": "code",
   "execution_count": null,
   "metadata": {},
   "outputs": [],
   "source": []
  }
 ],
 "metadata": {
  "kernelspec": {
   "display_name": "Python 3",
   "language": "python",
   "name": "python3"
  },
  "language_info": {
   "codemirror_mode": {
    "name": "ipython",
    "version": 3
   },
   "file_extension": ".py",
   "mimetype": "text/x-python",
   "name": "python",
   "nbconvert_exporter": "python",
   "pygments_lexer": "ipython3",
   "version": "3.7.3"
  }
 },
 "nbformat": 4,
 "nbformat_minor": 2
}
