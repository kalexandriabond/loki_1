{
 "cells": [
  {
   "cell_type": "code",
   "execution_count": 463,
   "metadata": {},
   "outputs": [],
   "source": [
    "import os\n",
    "import numpy as np\n",
    "from pandas import read_csv\n",
    "from collections import Counter\n",
    "import pandas as pd"
   ]
  },
  {
   "cell_type": "code",
   "execution_count": 13,
   "metadata": {},
   "outputs": [],
   "source": [
    "exp_param_directory = '../experimental_parameters/'"
   ]
  },
  {
   "cell_type": "code",
   "execution_count": 14,
   "metadata": {},
   "outputs": [],
   "source": [
    "exp_param_file = exp_param_directory + 'level_matching_parameters.csv'"
   ]
  },
  {
   "cell_type": "code",
   "execution_count": 573,
   "metadata": {},
   "outputs": [
    {
     "data": {
      "text/plain": [
       "['m1~110-v1.tif',\n",
       " 'm1~16-v1.tif',\n",
       " 'm4~49-v1.tif',\n",
       " 'f3~39-v1.tif',\n",
       " 'f2~23-v1.tif',\n",
       " 'f1~14-v1.tif',\n",
       " 'm1~11-v1.tif',\n",
       " 'f4~41-v1.tif',\n",
       " 'm2~210-v1.tif',\n",
       " 'f3~38-v1.tif',\n",
       " 'f3~310-v1.tif',\n",
       " 'm4~46-v1.tif',\n",
       " 'm2~22-v1.tif',\n",
       " 'f4~44-v1.tif',\n",
       " 'f3~34-v1.tif',\n",
       " 'f4~42-v1.tif',\n",
       " 'm3~31-v1.tif',\n",
       " 'f3~32-v1.tif',\n",
       " 'm1~13-v1.tif',\n",
       " 'f5~53-v1.tif',\n",
       " 'f2~24-v1.tif',\n",
       " 'm2~23-v1.tif',\n",
       " 'm1~14-v1.tif',\n",
       " 'm5~56-v1.tif',\n",
       " 'm4~45-v1.tif',\n",
       " 'f5~55-v1.tif',\n",
       " 'f5~57-v1.tif',\n",
       " 'm5~55-v1.tif',\n",
       " 'f1~15-v1.tif',\n",
       " 'm4~44-v1.tif',\n",
       " 'm3~33-v1.tif',\n",
       " 'm5~54-v1.tif',\n",
       " 'f1~13-v1.tif',\n",
       " 'f5~52-v1.tif',\n",
       " 'f5~510-v1.tif',\n",
       " 'm2~21-v1.tif',\n",
       " 'm2~25-v1.tif',\n",
       " 'f2~25-v1.tif',\n",
       " 'm3~32-v1.tif',\n",
       " 'm4~41-v1.tif']"
      ]
     },
     "execution_count": 573,
     "metadata": {},
     "output_type": "execute_result"
    }
   ],
   "source": [
    "test_greebles_file = exp_param_directory + 'test_greeble_images.csv'\n",
    "greebles = read_csv(test_greebles_file).values\n",
    "greebles = [g[0] for g in greebles]\n",
    "greebles"
   ]
  },
  {
   "cell_type": "code",
   "execution_count": 52,
   "metadata": {},
   "outputs": [],
   "source": [
    "n = len(greebles)\n",
    "num_match = 4"
   ]
  },
  {
   "cell_type": "code",
   "execution_count": 49,
   "metadata": {},
   "outputs": [],
   "source": [
    "greebles = [g[0]+g.split('~')[1].split('-')[0] for g in greebles]"
   ]
  },
  {
   "cell_type": "code",
   "execution_count": 295,
   "metadata": {},
   "outputs": [],
   "source": [
    "male = [g for g in greebles if g[0] == 'm']\n",
    "female = [g for g in greebles if g[0] == 'f']\n",
    "f1 = [g for g in greebles if g[1] == '1']\n",
    "f2 = [g for g in greebles if g[1] == '2']\n",
    "f3 = [g for g in greebles if g[1] == '3']\n",
    "f4 = [g for g in greebles if g[1] == '4']\n",
    "f5 = [g for g in greebles if g[1] == '5']\n",
    "families = [f1, f2, f3, f4, f5]"
   ]
  },
  {
   "cell_type": "code",
   "execution_count": 296,
   "metadata": {},
   "outputs": [],
   "source": [
    "levels = ['family', 'individual', 'sex']"
   ]
  },
  {
   "cell_type": "code",
   "execution_count": 356,
   "metadata": {},
   "outputs": [],
   "source": [
    "def update(counter, selected):\n",
    "    cp = counter.copy()\n",
    "    for s in selected:\n",
    "        cp[s] += 1\n",
    "    return cp"
   ]
  },
  {
   "cell_type": "code",
   "execution_count": 498,
   "metadata": {},
   "outputs": [],
   "source": [
    "def compute_leftover():\n",
    "    leftover = list()\n",
    "    for k in gcounter.keys():\n",
    "        if gcounter[k]<2:\n",
    "            leftover.append(k)\n",
    "    for g in greebles:\n",
    "        if g not in gcounter.keys():\n",
    "            leftover.append(g)\n",
    "    return leftover"
   ]
  },
  {
   "cell_type": "markdown",
   "metadata": {},
   "source": [
    "# individual"
   ]
  },
  {
   "cell_type": "code",
   "execution_count": 358,
   "metadata": {},
   "outputs": [],
   "source": [
    "def individual_sampling(counter, num, sample_list):\n",
    "    g_ind = np.random.choice(len(sample_list), num_match)\n",
    "    rep_ind = g_ind[np.random.choice(num_match,1)]\n",
    "    trial_idx = np.append(rep_ind, g_ind)\n",
    "    gbs = np.array(sample_list)[trial_idx]\n",
    "    return gbs"
   ]
  },
  {
   "cell_type": "code",
   "execution_count": 359,
   "metadata": {},
   "outputs": [],
   "source": [
    "def generate_individual_trials(counter, num_match, sample_list):\n",
    "    gbs = individual_sampling(counter, num_match, sample_list)\n",
    "#     print(gbs)\n",
    "    counter_copy = update(gcounter, gbs)\n",
    "    if counter_copy.most_common(1)[0][1]>2:\n",
    "        return generate_individual_trials(counter, num_match, sample_list)\n",
    "    else:\n",
    "        return gbs, counter_copy"
   ]
  },
  {
   "cell_type": "markdown",
   "metadata": {},
   "source": [
    "# family"
   ]
  },
  {
   "cell_type": "code",
   "execution_count": 360,
   "metadata": {},
   "outputs": [],
   "source": [
    "def family_sampling(counter, num):\n",
    "    norepeat = True\n",
    "    while norepeat:\n",
    "        g_ind = np.random.choice(len(greebles), num_match+1)\n",
    "        gs = np.array(greebles)[g_ind]\n",
    "        fs = [g[1]for g in gs]\n",
    "        if len(list(set(fs))) < len(fs):\n",
    "            norepeat = False\n",
    "    return np.array(greebles)[g_ind]"
   ]
  },
  {
   "cell_type": "code",
   "execution_count": 361,
   "metadata": {},
   "outputs": [],
   "source": [
    "def generate_family_trials(counter, num_match):\n",
    "    gbs = family_sampling(counter, num_match)\n",
    "    counter_copy = update(gcounter, gbs)\n",
    "    if counter_copy.most_common(1)[0][1]>2:\n",
    "        return generate_family_trials(counter, num_match)\n",
    "    else:\n",
    "        return gbs, counter_copy"
   ]
  },
  {
   "cell_type": "markdown",
   "metadata": {},
   "source": [
    "# sex"
   ]
  },
  {
   "cell_type": "code",
   "execution_count": 435,
   "metadata": {},
   "outputs": [],
   "source": [
    "def sex_sampling(counter, num, sample_list):\n",
    "    bad_ratio = True\n",
    "    while bad_ratio:\n",
    "        g_ind = np.random.choice(len(sample_list), num_match+1)\n",
    "        gs = np.array(sample_list)[g_ind]\n",
    "        f = [1 for g in gs if g[0] == 'f']\n",
    "        m = [1 for g in gs if g[0] == 'm']\n",
    "        if abs(sum(f) - sum(m)) < 4:\n",
    "            bad_ratio = False\n",
    "    return np.array(sample_list)[g_ind]\n",
    "def generate_sex_trials(counter, num_match, sample_list):\n",
    "    gbs = sex_sampling(counter, num_match, sample_list)\n",
    "    counter_copy = update(gcounter, gbs)\n",
    "    if counter_copy.most_common(1)[0][1]>2:\n",
    "        return generate_sex_trials(counter, num_match, sample_list)\n",
    "    else:\n",
    "        return gbs, counter_copy"
   ]
  },
  {
   "cell_type": "code",
   "execution_count": 490,
   "metadata": {},
   "outputs": [
    {
     "data": {
      "text/plain": [
       "[array(['f38', 'f25', 'f39', 'f57', 'f38'], dtype='|S4'),\n",
       " array(['f13', 'f32', 'f44', 'f39', 'f13'], dtype='|S4'),\n",
       " array(['m23', 'm14', 'm56', 'm23', 'm210'], dtype='|S4'),\n",
       " array(['m32', 'm22', 'm21', 'm32', 'm11'], dtype='|S4')]"
      ]
     },
     "execution_count": 490,
     "metadata": {},
     "output_type": "execute_result"
    }
   ],
   "source": [
    "gcounter = Counter()\n",
    "individual_samples = list()\n",
    "for i in range(2): #individuals\n",
    "    gbs, gcounter = generate_individual_trials(gcounter, num_match, female)\n",
    "    individual_samples.append(gbs)\n",
    "for i in range(2): #individuals\n",
    "    gbs, gcounter = generate_individual_trials(gcounter, num_match, male)\n",
    "    individual_samples.append(gbs)\n",
    "individual_samples"
   ]
  },
  {
   "cell_type": "code",
   "execution_count": 491,
   "metadata": {},
   "outputs": [],
   "source": [
    "family_samples = list()"
   ]
  },
  {
   "cell_type": "code",
   "execution_count": null,
   "metadata": {},
   "outputs": [],
   "source": [
    "for i in range(6):\n",
    "    gbs, gcounter = generate_family_trials(gcounter, num_match)\n",
    "    family_samples.append(gbs)"
   ]
  },
  {
   "cell_type": "code",
   "execution_count": 499,
   "metadata": {},
   "outputs": [
    {
     "data": {
      "text/plain": [
       "[array(['m110', 'm33', 'f41', 'f34', 'm21'], dtype='|S4'),\n",
       " array(['f14', 'm13', 'm14', 'f34', 'm44'], dtype='|S4'),\n",
       " array(['m56', 'f57', 'm210', 'm11', 'f41'], dtype='|S4'),\n",
       " array(['f25', 'm33', 'f14', 'f32', 'm25'], dtype='|S4'),\n",
       " array(['f510', 'm22', 'm41', 'm16', 'm25'], dtype='|S4'),\n",
       " array(['m45', 'm54', 'm16', 'f53', 'm49'], dtype='|S4')]"
      ]
     },
     "execution_count": 499,
     "metadata": {},
     "output_type": "execute_result"
    }
   ],
   "source": [
    "family_samples"
   ]
  },
  {
   "cell_type": "code",
   "execution_count": 500,
   "metadata": {},
   "outputs": [],
   "source": [
    "sex_samples = list()"
   ]
  },
  {
   "cell_type": "code",
   "execution_count": 512,
   "metadata": {},
   "outputs": [],
   "source": [
    "leftover = compute_leftover()\n",
    "gbs, gcounter = generate_sex_trials(gcounter, num_match, leftover)\n",
    "sex_samples.append(gbs)"
   ]
  },
  {
   "cell_type": "code",
   "execution_count": 513,
   "metadata": {},
   "outputs": [
    {
     "data": {
      "text/plain": [
       "[array(['f53', 'f23', 'm49', 'f42', 'm110'], dtype='|S4'),\n",
       " array(['f42', 'f44', 'f24', 'f24', 'm45'], dtype='|S4'),\n",
       " array(['f52', 'm44', 'm31', 'f23', 'm41'], dtype='|S4'),\n",
       " array(['m46', 'm55', 'm46', 'f310', 'f52'], dtype='|S4'),\n",
       " array(['m13', 'm54', 'f510', 'm31', 'f55'], dtype='|S4'),\n",
       " array(['m55', 'f55', 'f15', 'f310', 'f15'], dtype='|S4')]"
      ]
     },
     "execution_count": 513,
     "metadata": {},
     "output_type": "execute_result"
    }
   ],
   "source": [
    "sex_samples"
   ]
  },
  {
   "cell_type": "code",
   "execution_count": 517,
   "metadata": {},
   "outputs": [
    {
     "data": {
      "text/plain": [
       "[array(['m33', 'm110', 'f41', 'f34', 'm21'], dtype='|S4'),\n",
       " array(['f14', 'm13', 'm14', 'f34', 'm44'], dtype='|S4'),\n",
       " array(['m56', 'f57', 'm210', 'm11', 'f41'], dtype='|S4'),\n",
       " array(['m33', 'f25', 'f14', 'f32', 'm25'], dtype='|S3'),\n",
       " array(['m22', 'f510', 'm41', 'm16', 'm25'], dtype='|S4'),\n",
       " array(['m45', 'm54', 'm16', 'f53', 'm49'], dtype='|S4')]"
      ]
     },
     "execution_count": 517,
     "metadata": {},
     "output_type": "execute_result"
    }
   ],
   "source": [
    "#correct some orders of family presentation\n",
    "family_samples[0] = np.array(['m33', 'm110', 'f41', 'f34', 'm21'])\n",
    "family_samples[3] = np.array(['m33', 'f25', 'f14', 'f32', 'm25'])\n",
    "family_samples[4] = np.array(['m22', 'f510', 'm41', 'm16', 'm25'])\n",
    "family_samples"
   ]
  },
  {
   "cell_type": "code",
   "execution_count": 522,
   "metadata": {},
   "outputs": [],
   "source": [
    "#correct some orders of set presentation\n",
    "sex_samples[5] = np.array(['f55','f15', 'f310', 'f15', 'm55'])"
   ]
  },
  {
   "cell_type": "markdown",
   "metadata": {},
   "source": [
    "# Save sampling procedure"
   ]
  },
  {
   "cell_type": "code",
   "execution_count": 546,
   "metadata": {},
   "outputs": [
    {
     "data": {
      "text/plain": [
       "[10, 1, 3, 0, 6, 13, 9, 4, 11, 12, 7, 2, 14, 5, 8, 15]"
      ]
     },
     "execution_count": 546,
     "metadata": {},
     "output_type": "execute_result"
    }
   ],
   "source": [
    "trials = range(16)\n",
    "np.random.shuffle(trials)\n",
    "trials"
   ]
  },
  {
   "cell_type": "code",
   "execution_count": 575,
   "metadata": {},
   "outputs": [],
   "source": [
    "def gname(g):\n",
    "    s = g[0] + g[1] + '~' + g[1:] + '-v1.tif'\n",
    "    return s"
   ]
  },
  {
   "cell_type": "code",
   "execution_count": 576,
   "metadata": {},
   "outputs": [],
   "source": [
    "df = pd.DataFrame()\n",
    "t = 0\n",
    "for g in individual_samples:\n",
    "    vd = dict()\n",
    "    vd['level'] = 'individual'\n",
    "    vd['sample'] = gname(g[0])\n",
    "    vd['match1'] = gname(g[1])\n",
    "    vd['match2'] = gname(g[2])\n",
    "    vd['match3'] = gname(g[3])\n",
    "    vd['match4'] = gname(g[4])\n",
    "    vd['trial'] = int(trial[t])\n",
    "    df = df.append(vd, ignore_index=True)\n",
    "    t+=1\n",
    "for g in family_samples:\n",
    "    vd = dict()\n",
    "    vd['level'] = 'family'\n",
    "    vd['sample'] = gname(g[0])\n",
    "    vd['match1'] = gname(g[1])\n",
    "    vd['match2'] = gname(g[2])\n",
    "    vd['match3'] = gname(g[3])\n",
    "    vd['match4'] = gname(g[4])\n",
    "    vd['trial'] = int(trial[t])\n",
    "    df = df.append(vd, ignore_index=True)\n",
    "    t+=1\n",
    "for g in sex_samples:\n",
    "    vd = dict()\n",
    "    vd['level'] = 'sex'\n",
    "    vd['sample'] = gname(g[0])\n",
    "    vd['match1'] = gname(g[1])\n",
    "    vd['match2'] = gname(g[2])\n",
    "    vd['match3'] = gname(g[3])\n",
    "    vd['match4'] = gname(g[4])\n",
    "    vd['trial'] = int(trial[t])\n",
    "    df = df.append(vd, ignore_index=True)\n",
    "    t+=1"
   ]
  },
  {
   "cell_type": "code",
   "execution_count": 577,
   "metadata": {},
   "outputs": [
    {
     "name": "stdout",
     "output_type": "stream",
     "text": [
      "         level         match1         match2         match3         match4  \\\n",
      "0   individual   f2~25-v1.tif   f3~39-v1.tif   f5~57-v1.tif   f3~38-v1.tif   \n",
      "1   individual   f3~32-v1.tif   f4~44-v1.tif   f3~39-v1.tif   f1~13-v1.tif   \n",
      "2   individual   m1~14-v1.tif   m5~56-v1.tif   m2~23-v1.tif  m2~210-v1.tif   \n",
      "3   individual   m2~22-v1.tif   m2~21-v1.tif   m3~32-v1.tif   m1~11-v1.tif   \n",
      "4       family  m1~110-v1.tif   f4~41-v1.tif   f3~34-v1.tif   m2~21-v1.tif   \n",
      "5       family   m1~13-v1.tif   m1~14-v1.tif   f3~34-v1.tif   m4~44-v1.tif   \n",
      "6       family   f5~57-v1.tif  m2~210-v1.tif   m1~11-v1.tif   f4~41-v1.tif   \n",
      "7       family   f2~25-v1.tif   f1~14-v1.tif   f3~32-v1.tif   m2~25-v1.tif   \n",
      "8       family  f5~510-v1.tif   m4~41-v1.tif   m1~16-v1.tif   m2~25-v1.tif   \n",
      "9       family   m5~54-v1.tif   m1~16-v1.tif   f5~53-v1.tif   m4~49-v1.tif   \n",
      "10         sex   f2~23-v1.tif   m4~49-v1.tif   f4~42-v1.tif  m1~110-v1.tif   \n",
      "11         sex   f4~44-v1.tif   f2~24-v1.tif   f2~24-v1.tif   m4~45-v1.tif   \n",
      "12         sex   m4~44-v1.tif   m3~31-v1.tif   f2~23-v1.tif   m4~41-v1.tif   \n",
      "13         sex   m5~55-v1.tif   m4~46-v1.tif  f3~310-v1.tif   f5~52-v1.tif   \n",
      "14         sex   m5~54-v1.tif  f5~510-v1.tif   m3~31-v1.tif   f5~55-v1.tif   \n",
      "15         sex   f1~15-v1.tif  f3~310-v1.tif   f1~15-v1.tif   m5~55-v1.tif   \n",
      "\n",
      "          sample  trial  \n",
      "0   f3~38-v1.tif    4.0  \n",
      "1   f1~13-v1.tif    8.0  \n",
      "2   m2~23-v1.tif   11.0  \n",
      "3   m3~32-v1.tif    2.0  \n",
      "4   m3~33-v1.tif    6.0  \n",
      "5   f1~14-v1.tif    3.0  \n",
      "6   m5~56-v1.tif    9.0  \n",
      "7   m3~33-v1.tif    5.0  \n",
      "8   m2~22-v1.tif    1.0  \n",
      "9   m4~45-v1.tif   14.0  \n",
      "10  f5~53-v1.tif   12.0  \n",
      "11  f4~42-v1.tif    0.0  \n",
      "12  f5~52-v1.tif   15.0  \n",
      "13  m4~46-v1.tif    7.0  \n",
      "14  m1~13-v1.tif   13.0  \n",
      "15  f5~55-v1.tif   10.0  \n"
     ]
    }
   ],
   "source": [
    "print(df)"
   ]
  },
  {
   "cell_type": "code",
   "execution_count": 578,
   "metadata": {},
   "outputs": [],
   "source": [
    "df = df.sort_values(by=['trial'])"
   ]
  },
  {
   "cell_type": "code",
   "execution_count": 579,
   "metadata": {},
   "outputs": [
    {
     "data": {
      "text/html": [
       "<div>\n",
       "<style scoped>\n",
       "    .dataframe tbody tr th:only-of-type {\n",
       "        vertical-align: middle;\n",
       "    }\n",
       "\n",
       "    .dataframe tbody tr th {\n",
       "        vertical-align: top;\n",
       "    }\n",
       "\n",
       "    .dataframe thead th {\n",
       "        text-align: right;\n",
       "    }\n",
       "</style>\n",
       "<table border=\"1\" class=\"dataframe\">\n",
       "  <thead>\n",
       "    <tr style=\"text-align: right;\">\n",
       "      <th></th>\n",
       "      <th>level</th>\n",
       "      <th>match1</th>\n",
       "      <th>match2</th>\n",
       "      <th>match3</th>\n",
       "      <th>match4</th>\n",
       "      <th>sample</th>\n",
       "      <th>trial</th>\n",
       "    </tr>\n",
       "  </thead>\n",
       "  <tbody>\n",
       "    <tr>\n",
       "      <th>11</th>\n",
       "      <td>sex</td>\n",
       "      <td>f4~44-v1.tif</td>\n",
       "      <td>f2~24-v1.tif</td>\n",
       "      <td>f2~24-v1.tif</td>\n",
       "      <td>m4~45-v1.tif</td>\n",
       "      <td>f4~42-v1.tif</td>\n",
       "      <td>0.0</td>\n",
       "    </tr>\n",
       "    <tr>\n",
       "      <th>8</th>\n",
       "      <td>family</td>\n",
       "      <td>f5~510-v1.tif</td>\n",
       "      <td>m4~41-v1.tif</td>\n",
       "      <td>m1~16-v1.tif</td>\n",
       "      <td>m2~25-v1.tif</td>\n",
       "      <td>m2~22-v1.tif</td>\n",
       "      <td>1.0</td>\n",
       "    </tr>\n",
       "    <tr>\n",
       "      <th>3</th>\n",
       "      <td>individual</td>\n",
       "      <td>m2~22-v1.tif</td>\n",
       "      <td>m2~21-v1.tif</td>\n",
       "      <td>m3~32-v1.tif</td>\n",
       "      <td>m1~11-v1.tif</td>\n",
       "      <td>m3~32-v1.tif</td>\n",
       "      <td>2.0</td>\n",
       "    </tr>\n",
       "    <tr>\n",
       "      <th>5</th>\n",
       "      <td>family</td>\n",
       "      <td>m1~13-v1.tif</td>\n",
       "      <td>m1~14-v1.tif</td>\n",
       "      <td>f3~34-v1.tif</td>\n",
       "      <td>m4~44-v1.tif</td>\n",
       "      <td>f1~14-v1.tif</td>\n",
       "      <td>3.0</td>\n",
       "    </tr>\n",
       "    <tr>\n",
       "      <th>0</th>\n",
       "      <td>individual</td>\n",
       "      <td>f2~25-v1.tif</td>\n",
       "      <td>f3~39-v1.tif</td>\n",
       "      <td>f5~57-v1.tif</td>\n",
       "      <td>f3~38-v1.tif</td>\n",
       "      <td>f3~38-v1.tif</td>\n",
       "      <td>4.0</td>\n",
       "    </tr>\n",
       "    <tr>\n",
       "      <th>7</th>\n",
       "      <td>family</td>\n",
       "      <td>f2~25-v1.tif</td>\n",
       "      <td>f1~14-v1.tif</td>\n",
       "      <td>f3~32-v1.tif</td>\n",
       "      <td>m2~25-v1.tif</td>\n",
       "      <td>m3~33-v1.tif</td>\n",
       "      <td>5.0</td>\n",
       "    </tr>\n",
       "    <tr>\n",
       "      <th>4</th>\n",
       "      <td>family</td>\n",
       "      <td>m1~110-v1.tif</td>\n",
       "      <td>f4~41-v1.tif</td>\n",
       "      <td>f3~34-v1.tif</td>\n",
       "      <td>m2~21-v1.tif</td>\n",
       "      <td>m3~33-v1.tif</td>\n",
       "      <td>6.0</td>\n",
       "    </tr>\n",
       "    <tr>\n",
       "      <th>13</th>\n",
       "      <td>sex</td>\n",
       "      <td>m5~55-v1.tif</td>\n",
       "      <td>m4~46-v1.tif</td>\n",
       "      <td>f3~310-v1.tif</td>\n",
       "      <td>f5~52-v1.tif</td>\n",
       "      <td>m4~46-v1.tif</td>\n",
       "      <td>7.0</td>\n",
       "    </tr>\n",
       "    <tr>\n",
       "      <th>1</th>\n",
       "      <td>individual</td>\n",
       "      <td>f3~32-v1.tif</td>\n",
       "      <td>f4~44-v1.tif</td>\n",
       "      <td>f3~39-v1.tif</td>\n",
       "      <td>f1~13-v1.tif</td>\n",
       "      <td>f1~13-v1.tif</td>\n",
       "      <td>8.0</td>\n",
       "    </tr>\n",
       "    <tr>\n",
       "      <th>6</th>\n",
       "      <td>family</td>\n",
       "      <td>f5~57-v1.tif</td>\n",
       "      <td>m2~210-v1.tif</td>\n",
       "      <td>m1~11-v1.tif</td>\n",
       "      <td>f4~41-v1.tif</td>\n",
       "      <td>m5~56-v1.tif</td>\n",
       "      <td>9.0</td>\n",
       "    </tr>\n",
       "    <tr>\n",
       "      <th>15</th>\n",
       "      <td>sex</td>\n",
       "      <td>f1~15-v1.tif</td>\n",
       "      <td>f3~310-v1.tif</td>\n",
       "      <td>f1~15-v1.tif</td>\n",
       "      <td>m5~55-v1.tif</td>\n",
       "      <td>f5~55-v1.tif</td>\n",
       "      <td>10.0</td>\n",
       "    </tr>\n",
       "    <tr>\n",
       "      <th>2</th>\n",
       "      <td>individual</td>\n",
       "      <td>m1~14-v1.tif</td>\n",
       "      <td>m5~56-v1.tif</td>\n",
       "      <td>m2~23-v1.tif</td>\n",
       "      <td>m2~210-v1.tif</td>\n",
       "      <td>m2~23-v1.tif</td>\n",
       "      <td>11.0</td>\n",
       "    </tr>\n",
       "    <tr>\n",
       "      <th>10</th>\n",
       "      <td>sex</td>\n",
       "      <td>f2~23-v1.tif</td>\n",
       "      <td>m4~49-v1.tif</td>\n",
       "      <td>f4~42-v1.tif</td>\n",
       "      <td>m1~110-v1.tif</td>\n",
       "      <td>f5~53-v1.tif</td>\n",
       "      <td>12.0</td>\n",
       "    </tr>\n",
       "    <tr>\n",
       "      <th>14</th>\n",
       "      <td>sex</td>\n",
       "      <td>m5~54-v1.tif</td>\n",
       "      <td>f5~510-v1.tif</td>\n",
       "      <td>m3~31-v1.tif</td>\n",
       "      <td>f5~55-v1.tif</td>\n",
       "      <td>m1~13-v1.tif</td>\n",
       "      <td>13.0</td>\n",
       "    </tr>\n",
       "    <tr>\n",
       "      <th>9</th>\n",
       "      <td>family</td>\n",
       "      <td>m5~54-v1.tif</td>\n",
       "      <td>m1~16-v1.tif</td>\n",
       "      <td>f5~53-v1.tif</td>\n",
       "      <td>m4~49-v1.tif</td>\n",
       "      <td>m4~45-v1.tif</td>\n",
       "      <td>14.0</td>\n",
       "    </tr>\n",
       "    <tr>\n",
       "      <th>12</th>\n",
       "      <td>sex</td>\n",
       "      <td>m4~44-v1.tif</td>\n",
       "      <td>m3~31-v1.tif</td>\n",
       "      <td>f2~23-v1.tif</td>\n",
       "      <td>m4~41-v1.tif</td>\n",
       "      <td>f5~52-v1.tif</td>\n",
       "      <td>15.0</td>\n",
       "    </tr>\n",
       "  </tbody>\n",
       "</table>\n",
       "</div>"
      ],
      "text/plain": [
       "         level         match1         match2         match3         match4  \\\n",
       "11         sex   f4~44-v1.tif   f2~24-v1.tif   f2~24-v1.tif   m4~45-v1.tif   \n",
       "8       family  f5~510-v1.tif   m4~41-v1.tif   m1~16-v1.tif   m2~25-v1.tif   \n",
       "3   individual   m2~22-v1.tif   m2~21-v1.tif   m3~32-v1.tif   m1~11-v1.tif   \n",
       "5       family   m1~13-v1.tif   m1~14-v1.tif   f3~34-v1.tif   m4~44-v1.tif   \n",
       "0   individual   f2~25-v1.tif   f3~39-v1.tif   f5~57-v1.tif   f3~38-v1.tif   \n",
       "7       family   f2~25-v1.tif   f1~14-v1.tif   f3~32-v1.tif   m2~25-v1.tif   \n",
       "4       family  m1~110-v1.tif   f4~41-v1.tif   f3~34-v1.tif   m2~21-v1.tif   \n",
       "13         sex   m5~55-v1.tif   m4~46-v1.tif  f3~310-v1.tif   f5~52-v1.tif   \n",
       "1   individual   f3~32-v1.tif   f4~44-v1.tif   f3~39-v1.tif   f1~13-v1.tif   \n",
       "6       family   f5~57-v1.tif  m2~210-v1.tif   m1~11-v1.tif   f4~41-v1.tif   \n",
       "15         sex   f1~15-v1.tif  f3~310-v1.tif   f1~15-v1.tif   m5~55-v1.tif   \n",
       "2   individual   m1~14-v1.tif   m5~56-v1.tif   m2~23-v1.tif  m2~210-v1.tif   \n",
       "10         sex   f2~23-v1.tif   m4~49-v1.tif   f4~42-v1.tif  m1~110-v1.tif   \n",
       "14         sex   m5~54-v1.tif  f5~510-v1.tif   m3~31-v1.tif   f5~55-v1.tif   \n",
       "9       family   m5~54-v1.tif   m1~16-v1.tif   f5~53-v1.tif   m4~49-v1.tif   \n",
       "12         sex   m4~44-v1.tif   m3~31-v1.tif   f2~23-v1.tif   m4~41-v1.tif   \n",
       "\n",
       "          sample  trial  \n",
       "11  f4~42-v1.tif    0.0  \n",
       "8   m2~22-v1.tif    1.0  \n",
       "3   m3~32-v1.tif    2.0  \n",
       "5   f1~14-v1.tif    3.0  \n",
       "0   f3~38-v1.tif    4.0  \n",
       "7   m3~33-v1.tif    5.0  \n",
       "4   m3~33-v1.tif    6.0  \n",
       "13  m4~46-v1.tif    7.0  \n",
       "1   f1~13-v1.tif    8.0  \n",
       "6   m5~56-v1.tif    9.0  \n",
       "15  f5~55-v1.tif   10.0  \n",
       "2   m2~23-v1.tif   11.0  \n",
       "10  f5~53-v1.tif   12.0  \n",
       "14  m1~13-v1.tif   13.0  \n",
       "9   m4~45-v1.tif   14.0  \n",
       "12  f5~52-v1.tif   15.0  "
      ]
     },
     "execution_count": 579,
     "metadata": {},
     "output_type": "execute_result"
    }
   ],
   "source": [
    "df"
   ]
  },
  {
   "cell_type": "code",
   "execution_count": 580,
   "metadata": {},
   "outputs": [],
   "source": [
    "df.to_csv(exp_param_file)"
   ]
  },
  {
   "cell_type": "code",
   "execution_count": 582,
   "metadata": {},
   "outputs": [],
   "source": [
    "exp_param = read_csv(exp_param_file, header=0)"
   ]
  },
  {
   "cell_type": "code",
   "execution_count": 583,
   "metadata": {},
   "outputs": [],
   "source": [
    "kk = exp_param.values"
   ]
  },
  {
   "cell_type": "code",
   "execution_count": 584,
   "metadata": {},
   "outputs": [
    {
     "data": {
      "text/plain": [
       "array([[11, 'sex', 'f4~44-v1.tif', 'f2~24-v1.tif', 'f2~24-v1.tif',\n",
       "        'm4~45-v1.tif', 'f4~42-v1.tif', 0.0],\n",
       "       [8, 'family', 'f5~510-v1.tif', 'm4~41-v1.tif', 'm1~16-v1.tif',\n",
       "        'm2~25-v1.tif', 'm2~22-v1.tif', 1.0],\n",
       "       [3, 'individual', 'm2~22-v1.tif', 'm2~21-v1.tif', 'm3~32-v1.tif',\n",
       "        'm1~11-v1.tif', 'm3~32-v1.tif', 2.0],\n",
       "       [5, 'family', 'm1~13-v1.tif', 'm1~14-v1.tif', 'f3~34-v1.tif',\n",
       "        'm4~44-v1.tif', 'f1~14-v1.tif', 3.0],\n",
       "       [0, 'individual', 'f2~25-v1.tif', 'f3~39-v1.tif', 'f5~57-v1.tif',\n",
       "        'f3~38-v1.tif', 'f3~38-v1.tif', 4.0],\n",
       "       [7, 'family', 'f2~25-v1.tif', 'f1~14-v1.tif', 'f3~32-v1.tif',\n",
       "        'm2~25-v1.tif', 'm3~33-v1.tif', 5.0],\n",
       "       [4, 'family', 'm1~110-v1.tif', 'f4~41-v1.tif', 'f3~34-v1.tif',\n",
       "        'm2~21-v1.tif', 'm3~33-v1.tif', 6.0],\n",
       "       [13, 'sex', 'm5~55-v1.tif', 'm4~46-v1.tif', 'f3~310-v1.tif',\n",
       "        'f5~52-v1.tif', 'm4~46-v1.tif', 7.0],\n",
       "       [1, 'individual', 'f3~32-v1.tif', 'f4~44-v1.tif', 'f3~39-v1.tif',\n",
       "        'f1~13-v1.tif', 'f1~13-v1.tif', 8.0],\n",
       "       [6, 'family', 'f5~57-v1.tif', 'm2~210-v1.tif', 'm1~11-v1.tif',\n",
       "        'f4~41-v1.tif', 'm5~56-v1.tif', 9.0],\n",
       "       [15, 'sex', 'f1~15-v1.tif', 'f3~310-v1.tif', 'f1~15-v1.tif',\n",
       "        'm5~55-v1.tif', 'f5~55-v1.tif', 10.0],\n",
       "       [2, 'individual', 'm1~14-v1.tif', 'm5~56-v1.tif', 'm2~23-v1.tif',\n",
       "        'm2~210-v1.tif', 'm2~23-v1.tif', 11.0],\n",
       "       [10, 'sex', 'f2~23-v1.tif', 'm4~49-v1.tif', 'f4~42-v1.tif',\n",
       "        'm1~110-v1.tif', 'f5~53-v1.tif', 12.0],\n",
       "       [14, 'sex', 'm5~54-v1.tif', 'f5~510-v1.tif', 'm3~31-v1.tif',\n",
       "        'f5~55-v1.tif', 'm1~13-v1.tif', 13.0],\n",
       "       [9, 'family', 'm5~54-v1.tif', 'm1~16-v1.tif', 'f5~53-v1.tif',\n",
       "        'm4~49-v1.tif', 'm4~45-v1.tif', 14.0],\n",
       "       [12, 'sex', 'm4~44-v1.tif', 'm3~31-v1.tif', 'f2~23-v1.tif',\n",
       "        'm4~41-v1.tif', 'f5~52-v1.tif', 15.0]], dtype=object)"
      ]
     },
     "execution_count": 584,
     "metadata": {},
     "output_type": "execute_result"
    }
   ],
   "source": [
    "kk"
   ]
  },
  {
   "cell_type": "code",
   "execution_count": null,
   "metadata": {},
   "outputs": [],
   "source": []
  }
 ],
 "metadata": {
  "kernelspec": {
   "display_name": "Python 2",
   "language": "python",
   "name": "python2"
  },
  "language_info": {
   "codemirror_mode": {
    "name": "ipython",
    "version": 2
   },
   "file_extension": ".py",
   "mimetype": "text/x-python",
   "name": "python",
   "nbconvert_exporter": "python",
   "pygments_lexer": "ipython2",
   "version": "2.7.16"
  }
 },
 "nbformat": 4,
 "nbformat_minor": 2
}
